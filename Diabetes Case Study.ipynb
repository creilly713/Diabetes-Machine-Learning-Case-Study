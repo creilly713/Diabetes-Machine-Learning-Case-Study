{
 "cells": [
  {
   "cell_type": "markdown",
   "id": "a90de594",
   "metadata": {},
   "source": [
    "# Diabetes Case Study "
   ]
  },
  {
   "cell_type": "code",
   "execution_count": 8,
   "id": "da672dcd",
   "metadata": {},
   "outputs": [],
   "source": [
    "import pandas as pd\n",
    "import numpy as np\n",
    "import matplotlib.pyplot as plt\n",
    "from sklearn.model_selection import train_test_split\n",
    "from sklearn.preprocessing import StandardScaler\n",
    "from sklearn.linear_model import LogisticRegression\n",
    "from sklearn.neighbors import KNeighborsClassifier\n",
    "from sklearn.svm import SVC\n",
    "from sklearn.ensemble import RandomForestClassifier\n",
    "from sklearn.tree import DecisionTreeClassifier\n",
    "from sklearn.naive_bayes import GaussianNB\n",
    "from sklearn import metrics\n",
    "from sklearn.metrics import accuracy_score\n",
    "import pandas_profiling as pp\n",
    "from sklearn.metrics import classification_report, confusion_matrix\n",
    "import seaborn as sns\n",
    "from sklearn.ensemble import RandomForestRegressor\n",
    "from pprint import pprint\n",
    "from sklearn.model_selection import RandomizedSearchCV\n",
    "from sklearn.ensemble import GradientBoostingClassifier\n",
    "from sklearn.model_selection import cross_val_score\n",
    "from sklearn import tree\n",
    "from sklearn.model_selection import GridSearchCV\n"
   ]
  },
  {
   "cell_type": "code",
   "execution_count": 14,
   "id": "85aaec77",
   "metadata": {},
   "outputs": [
    {
     "data": {
      "text/html": [
       "<div>\n",
       "<style scoped>\n",
       "    .dataframe tbody tr th:only-of-type {\n",
       "        vertical-align: middle;\n",
       "    }\n",
       "\n",
       "    .dataframe tbody tr th {\n",
       "        vertical-align: top;\n",
       "    }\n",
       "\n",
       "    .dataframe thead th {\n",
       "        text-align: right;\n",
       "    }\n",
       "</style>\n",
       "<table border=\"1\" class=\"dataframe\">\n",
       "  <thead>\n",
       "    <tr style=\"text-align: right;\">\n",
       "      <th></th>\n",
       "      <th>Pregnancies</th>\n",
       "      <th>Glucose</th>\n",
       "      <th>BloodPressure</th>\n",
       "      <th>SkinThickness</th>\n",
       "      <th>Insulin</th>\n",
       "      <th>BMI</th>\n",
       "      <th>DiabetesPedigreeFunction</th>\n",
       "      <th>Age</th>\n",
       "      <th>Outcome</th>\n",
       "    </tr>\n",
       "  </thead>\n",
       "  <tbody>\n",
       "    <tr>\n",
       "      <th>0</th>\n",
       "      <td>6</td>\n",
       "      <td>148</td>\n",
       "      <td>72</td>\n",
       "      <td>35</td>\n",
       "      <td>0</td>\n",
       "      <td>33.6</td>\n",
       "      <td>0.627</td>\n",
       "      <td>50</td>\n",
       "      <td>1</td>\n",
       "    </tr>\n",
       "    <tr>\n",
       "      <th>1</th>\n",
       "      <td>1</td>\n",
       "      <td>85</td>\n",
       "      <td>66</td>\n",
       "      <td>29</td>\n",
       "      <td>0</td>\n",
       "      <td>26.6</td>\n",
       "      <td>0.351</td>\n",
       "      <td>31</td>\n",
       "      <td>0</td>\n",
       "    </tr>\n",
       "    <tr>\n",
       "      <th>2</th>\n",
       "      <td>8</td>\n",
       "      <td>183</td>\n",
       "      <td>64</td>\n",
       "      <td>0</td>\n",
       "      <td>0</td>\n",
       "      <td>23.3</td>\n",
       "      <td>0.672</td>\n",
       "      <td>32</td>\n",
       "      <td>1</td>\n",
       "    </tr>\n",
       "    <tr>\n",
       "      <th>3</th>\n",
       "      <td>1</td>\n",
       "      <td>89</td>\n",
       "      <td>66</td>\n",
       "      <td>23</td>\n",
       "      <td>94</td>\n",
       "      <td>28.1</td>\n",
       "      <td>0.167</td>\n",
       "      <td>21</td>\n",
       "      <td>0</td>\n",
       "    </tr>\n",
       "    <tr>\n",
       "      <th>4</th>\n",
       "      <td>0</td>\n",
       "      <td>137</td>\n",
       "      <td>40</td>\n",
       "      <td>35</td>\n",
       "      <td>168</td>\n",
       "      <td>43.1</td>\n",
       "      <td>2.288</td>\n",
       "      <td>33</td>\n",
       "      <td>1</td>\n",
       "    </tr>\n",
       "  </tbody>\n",
       "</table>\n",
       "</div>"
      ],
      "text/plain": [
       "   Pregnancies  Glucose  BloodPressure  SkinThickness  Insulin   BMI  \\\n",
       "0            6      148             72             35        0  33.6   \n",
       "1            1       85             66             29        0  26.6   \n",
       "2            8      183             64              0        0  23.3   \n",
       "3            1       89             66             23       94  28.1   \n",
       "4            0      137             40             35      168  43.1   \n",
       "\n",
       "   DiabetesPedigreeFunction  Age  Outcome  \n",
       "0                     0.627   50        1  \n",
       "1                     0.351   31        0  \n",
       "2                     0.672   32        1  \n",
       "3                     0.167   21        0  \n",
       "4                     2.288   33        1  "
      ]
     },
     "execution_count": 14,
     "metadata": {},
     "output_type": "execute_result"
    }
   ],
   "source": [
    "df = pd.read_csv('diabetes-2.csv')\n",
    "df.head()"
   ]
  },
  {
   "cell_type": "code",
   "execution_count": 13,
   "id": "ec2940ff",
   "metadata": {},
   "outputs": [
    {
     "name": "stdout",
     "output_type": "stream",
     "text": [
      "Negitive patients represented by 0 and Positive patients represented by 1: \n",
      " Outcome\n",
      "Negitive    1\n",
      "Positive    1\n",
      "dtype: int64\n"
     ]
    },
    {
     "data": {
      "text/plain": [
       "<AxesSubplot:title={'center':'Diabetes Outcome'}, xlabel='Outcome', ylabel='Total'>"
      ]
     },
     "execution_count": 13,
     "metadata": {},
     "output_type": "execute_result"
    },
    {
     "data": {
      "image/png": "[encoded data removed]",
      "text/plain": [
       "<Figure size 432x288 with 1 Axes>"
      ]
     },
     "metadata": {
      "needs_background": "light"
     },
     "output_type": "display_data"
    }
   ],
   "source": [
    "### Diabetes Outcome \n",
    "\n",
    "count_outcome = df.value_counts(\"Outcome\")\n",
    "print(\"Negitive patients represented by 0 and Positive patients represented by 1:\", \"\\n\", count_outcome)\n",
    "\n",
    "df = pd.DataFrame({\"Outcome\": [\"Negitive\", \"Positive\"], \"Diabetes Result\": [500, 268]})\n",
    "\n",
    "df.plot.bar(x = \"Outcome\", y = \"Diabetes Result\", color = (\"Red\",\"Blue\"), ylabel = 'Total', title = 'Diabetes Outcome')"
   ]
  },
  {
   "cell_type": "markdown",
   "id": "65616343",
   "metadata": {},
   "source": [
    "# Data Cleaning and Pre-processing"
   ]
  },
  {
   "cell_type": "code",
   "execution_count": 15,
   "id": "e8b98e50",
   "metadata": {},
   "outputs": [
    {
     "name": "stdout",
     "output_type": "stream",
     "text": [
      "\n",
      " False\n",
      "\n",
      " Pregnancies                   int64\n",
      "Glucose                       int64\n",
      "BloodPressure                 int64\n",
      "SkinThickness                 int64\n",
      "Insulin                       int64\n",
      "BMI                         float64\n",
      "DiabetesPedigreeFunction    float64\n",
      "Age                           int64\n",
      "Outcome                       int64\n",
      "dtype: object\n",
      "\n",
      "        Pregnancies     Glucose  BloodPressure  SkinThickness     Insulin  \\\n",
      "count   768.000000  768.000000     768.000000     768.000000  768.000000   \n",
      "mean      3.845052  120.894531      69.105469      20.536458   79.799479   \n",
      "std       3.369578   31.972618      19.355807      15.952218  115.244002   \n",
      "min       0.000000    0.000000       0.000000       0.000000    0.000000   \n",
      "25%       1.000000   99.000000      62.000000       0.000000    0.000000   \n",
      "50%       3.000000  117.000000      72.000000      23.000000   30.500000   \n",
      "75%       6.000000  140.250000      80.000000      32.000000  127.250000   \n",
      "max      17.000000  199.000000     122.000000      99.000000  846.000000   \n",
      "\n",
      "              BMI  DiabetesPedigreeFunction         Age     Outcome  \n",
      "count  768.000000                768.000000  768.000000  768.000000  \n",
      "mean    31.992578                  0.471876   33.240885    0.348958  \n",
      "std      7.884160                  0.331329   11.760232    0.476951  \n",
      "min      0.000000                  0.078000   21.000000    0.000000  \n",
      "25%     27.300000                  0.243750   24.000000    0.000000  \n",
      "50%     32.000000                  0.372500   29.000000    0.000000  \n",
      "75%     36.600000                  0.626250   41.000000    1.000000  \n",
      "max     67.100000                  2.420000   81.000000    1.000000  \n"
     ]
    }
   ],
   "source": [
    "###Lets check the dataset for missing values, identify the size of the dataset and preform some general cleaning steps before progressing\n",
    "print('\\n', df.isnull().values.any())\n",
    "print('\\n', df.dtypes)\n",
    "\n",
    "print('\\n', df.describe())"
   ]
  },
  {
   "cell_type": "code",
   "execution_count": 17,
   "id": "a6382db4",
   "metadata": {},
   "outputs": [
    {
     "name": "stdout",
     "output_type": "stream",
     "text": [
      "The number of patients missing Glucose data is: \n",
      " 5\n",
      "The number of patients missing Blood Pressure data is: \n",
      " 35\n",
      "The number of patients missing Skin Thickness data is: \n",
      " 227\n",
      "The number of patients missing Insulin data is: \n",
      " 374\n",
      "The number of patients missing BMI data is: \n",
      " 11\n",
      "The number of patients missing Diabetes Pedigree Function data is: \n",
      " 0\n",
      "The number of patients missing Age data is: \n",
      " 0\n"
     ]
    }
   ],
   "source": [
    "### Identify columns missing data\n",
    "### here I exclude columns Pregnancies, and Outcome as 0 is a valid score for these parameters and \n",
    "###I don't want to remove them from the dataset\n",
    "\n",
    "Glucose_Missing_values = (df[\"Glucose\"] == 0).sum()\n",
    "print(\"The number of patients missing Glucose data is:\", \"\\n\", Glucose_Missing_values)\n",
    "\n",
    "BloodPressure_Missing_values = (df[\"BloodPressure\"] == 0).sum()\n",
    "print(\"The number of patients missing Blood Pressure data is:\", \"\\n\", BloodPressure_Missing_values)\n",
    "\n",
    "SkinThickness_Missing_values = (df[\"SkinThickness\"] == 0).sum()\n",
    "print(\"The number of patients missing Skin Thickness data is:\", \"\\n\", SkinThickness_Missing_values)\n",
    "\n",
    "Insulin_Missing_values = (df[\"Insulin\"] == 0).sum()\n",
    "print(\"The number of patients missing Insulin data is:\", \"\\n\", Insulin_Missing_values)\n",
    "\n",
    "BMI_Missing_values = (df[\"BMI\"] == 0).sum()\n",
    "print(\"The number of patients missing BMI data is:\", \"\\n\", BMI_Missing_values)\n",
    "\n",
    "DiabetesPedigreeFunction_Missing_values = (df[\"DiabetesPedigreeFunction\"] == 0).sum()\n",
    "print(\"The number of patients missing Diabetes Pedigree Function data is:\", \"\\n\", DiabetesPedigreeFunction_Missing_values)\n",
    "\n",
    "Age_Missing_values = (df[\"Age\"] == 0).sum()\n",
    "print(\"The number of patients missing Age data is:\", \"\\n\", Age_Missing_values)\n",
    "\n",
    "\n",
    "### Next replace missing values with NAN values \n",
    "\n",
    "Glucose_column = df[\"Glucose\"]\n",
    "Glucose_column.replace(to_replace = 0, value = np.nan, inplace=True)\n",
    "\n",
    "BloodPressure_column = df[\"BloodPressure\"]\n",
    "BloodPressure_column.replace(to_replace = 0, value = np.nan, inplace=True)\n",
    "\n",
    "SkinThickness_column = df[\"SkinThickness\"]\n",
    "SkinThickness_column.replace(to_replace = 0, value = np.nan, inplace=True)\n",
    "\n",
    "Insulin_column = df[\"Insulin\"]\n",
    "Insulin_column.replace(to_replace = 0, value = np.nan, inplace=True)\n",
    "\n",
    "BMI_column = df[\"BMI\"]\n",
    "BMI_column.replace(to_replace = 0, value = np.nan, inplace=True)\n",
    "\n",
    "DiabetesPedigreeFunction_column = df[\"DiabetesPedigreeFunction\"]\n",
    "DiabetesPedigreeFunction_column.replace(to_replace = 0, value = np.nan, inplace=True)\n",
    "\n",
    "Age_column = df[\"Age\"]\n",
    "Age_column.replace(to_replace = 0, value = np.nan, inplace=True)\n"
   ]
  },
  {
   "cell_type": "code",
   "execution_count": 18,
   "id": "a752c60a",
   "metadata": {},
   "outputs": [
    {
     "data": {
      "text/html": [
       "<div>\n",
       "<style scoped>\n",
       "    .dataframe tbody tr th:only-of-type {\n",
       "        vertical-align: middle;\n",
       "    }\n",
       "\n",
       "    .dataframe tbody tr th {\n",
       "        vertical-align: top;\n",
       "    }\n",
       "\n",
       "    .dataframe thead th {\n",
       "        text-align: right;\n",
       "    }\n",
       "</style>\n",
       "<table border=\"1\" class=\"dataframe\">\n",
       "  <thead>\n",
       "    <tr style=\"text-align: right;\">\n",
       "      <th></th>\n",
       "      <th>Pregnancies</th>\n",
       "      <th>Glucose</th>\n",
       "      <th>BloodPressure</th>\n",
       "      <th>SkinThickness</th>\n",
       "      <th>Insulin</th>\n",
       "      <th>BMI</th>\n",
       "      <th>DiabetesPedigreeFunction</th>\n",
       "      <th>Age</th>\n",
       "      <th>Outcome</th>\n",
       "    </tr>\n",
       "  </thead>\n",
       "  <tbody>\n",
       "    <tr>\n",
       "      <th>0</th>\n",
       "      <td>6.0</td>\n",
       "      <td>NaN</td>\n",
       "      <td>72.0</td>\n",
       "      <td>35.0</td>\n",
       "      <td>NaN</td>\n",
       "      <td>33.6</td>\n",
       "      <td>NaN</td>\n",
       "      <td>NaN</td>\n",
       "      <td>1</td>\n",
       "    </tr>\n",
       "    <tr>\n",
       "      <th>1</th>\n",
       "      <td>1.0</td>\n",
       "      <td>NaN</td>\n",
       "      <td>66.0</td>\n",
       "      <td>29.0</td>\n",
       "      <td>NaN</td>\n",
       "      <td>NaN</td>\n",
       "      <td>0.351</td>\n",
       "      <td>31.0</td>\n",
       "      <td>0</td>\n",
       "    </tr>\n",
       "    <tr>\n",
       "      <th>2</th>\n",
       "      <td>NaN</td>\n",
       "      <td>NaN</td>\n",
       "      <td>64.0</td>\n",
       "      <td>NaN</td>\n",
       "      <td>NaN</td>\n",
       "      <td>NaN</td>\n",
       "      <td>NaN</td>\n",
       "      <td>32.0</td>\n",
       "      <td>1</td>\n",
       "    </tr>\n",
       "    <tr>\n",
       "      <th>3</th>\n",
       "      <td>1.0</td>\n",
       "      <td>NaN</td>\n",
       "      <td>66.0</td>\n",
       "      <td>23.0</td>\n",
       "      <td>94.0</td>\n",
       "      <td>28.1</td>\n",
       "      <td>NaN</td>\n",
       "      <td>NaN</td>\n",
       "      <td>0</td>\n",
       "    </tr>\n",
       "    <tr>\n",
       "      <th>4</th>\n",
       "      <td>NaN</td>\n",
       "      <td>137.0</td>\n",
       "      <td>NaN</td>\n",
       "      <td>35.0</td>\n",
       "      <td>168.0</td>\n",
       "      <td>NaN</td>\n",
       "      <td>NaN</td>\n",
       "      <td>33.0</td>\n",
       "      <td>1</td>\n",
       "    </tr>\n",
       "    <tr>\n",
       "      <th>...</th>\n",
       "      <td>...</td>\n",
       "      <td>...</td>\n",
       "      <td>...</td>\n",
       "      <td>...</td>\n",
       "      <td>...</td>\n",
       "      <td>...</td>\n",
       "      <td>...</td>\n",
       "      <td>...</td>\n",
       "      <td>...</td>\n",
       "    </tr>\n",
       "    <tr>\n",
       "      <th>763</th>\n",
       "      <td>NaN</td>\n",
       "      <td>101.0</td>\n",
       "      <td>76.0</td>\n",
       "      <td>NaN</td>\n",
       "      <td>180.0</td>\n",
       "      <td>32.9</td>\n",
       "      <td>NaN</td>\n",
       "      <td>NaN</td>\n",
       "      <td>0</td>\n",
       "    </tr>\n",
       "    <tr>\n",
       "      <th>764</th>\n",
       "      <td>2.0</td>\n",
       "      <td>122.0</td>\n",
       "      <td>70.0</td>\n",
       "      <td>27.0</td>\n",
       "      <td>NaN</td>\n",
       "      <td>NaN</td>\n",
       "      <td>0.340</td>\n",
       "      <td>27.0</td>\n",
       "      <td>0</td>\n",
       "    </tr>\n",
       "    <tr>\n",
       "      <th>765</th>\n",
       "      <td>5.0</td>\n",
       "      <td>121.0</td>\n",
       "      <td>72.0</td>\n",
       "      <td>23.0</td>\n",
       "      <td>112.0</td>\n",
       "      <td>NaN</td>\n",
       "      <td>0.245</td>\n",
       "      <td>30.0</td>\n",
       "      <td>0</td>\n",
       "    </tr>\n",
       "    <tr>\n",
       "      <th>766</th>\n",
       "      <td>1.0</td>\n",
       "      <td>126.0</td>\n",
       "      <td>NaN</td>\n",
       "      <td>NaN</td>\n",
       "      <td>NaN</td>\n",
       "      <td>30.1</td>\n",
       "      <td>0.349</td>\n",
       "      <td>NaN</td>\n",
       "      <td>1</td>\n",
       "    </tr>\n",
       "    <tr>\n",
       "      <th>767</th>\n",
       "      <td>1.0</td>\n",
       "      <td>NaN</td>\n",
       "      <td>70.0</td>\n",
       "      <td>31.0</td>\n",
       "      <td>NaN</td>\n",
       "      <td>30.4</td>\n",
       "      <td>0.315</td>\n",
       "      <td>NaN</td>\n",
       "      <td>0</td>\n",
       "    </tr>\n",
       "  </tbody>\n",
       "</table>\n",
       "<p>768 rows × 9 columns</p>\n",
       "</div>"
      ],
      "text/plain": [
       "     Pregnancies  Glucose  BloodPressure  SkinThickness  Insulin   BMI  \\\n",
       "0            6.0      NaN           72.0           35.0      NaN  33.6   \n",
       "1            1.0      NaN           66.0           29.0      NaN   NaN   \n",
       "2            NaN      NaN           64.0            NaN      NaN   NaN   \n",
       "3            1.0      NaN           66.0           23.0     94.0  28.1   \n",
       "4            NaN    137.0            NaN           35.0    168.0   NaN   \n",
       "..           ...      ...            ...            ...      ...   ...   \n",
       "763          NaN    101.0           76.0            NaN    180.0  32.9   \n",
       "764          2.0    122.0           70.0           27.0      NaN   NaN   \n",
       "765          5.0    121.0           72.0           23.0    112.0   NaN   \n",
       "766          1.0    126.0            NaN            NaN      NaN  30.1   \n",
       "767          1.0      NaN           70.0           31.0      NaN  30.4   \n",
       "\n",
       "     DiabetesPedigreeFunction   Age  Outcome  \n",
       "0                         NaN   NaN        1  \n",
       "1                       0.351  31.0        0  \n",
       "2                         NaN  32.0        1  \n",
       "3                         NaN   NaN        0  \n",
       "4                         NaN  33.0        1  \n",
       "..                        ...   ...      ...  \n",
       "763                       NaN   NaN        0  \n",
       "764                     0.340  27.0        0  \n",
       "765                     0.245  30.0        0  \n",
       "766                     0.349   NaN        1  \n",
       "767                     0.315   NaN        0  \n",
       "\n",
       "[768 rows x 9 columns]"
      ]
     },
     "execution_count": 18,
     "metadata": {},
     "output_type": "execute_result"
    }
   ],
   "source": [
    "### remove outliers\n",
    "\n",
    "Q_25 = 0.25\n",
    "Q_75 = 0.75\n",
    "res = df.quantile([Q_25, Q_75])\n",
    "\n",
    "outlier_removal = (res.loc[Q_25] <= df) & (df <= res.loc[Q_75])   ### setting this to df returned a boolean table so intermediate variable outlier_removal was necessary\n",
    "df[outlier_removal]"
   ]
  },
  {
   "cell_type": "code",
   "execution_count": 19,
   "id": "8b552f75",
   "metadata": {},
   "outputs": [
    {
     "data": {
      "text/html": [
       "<div>\n",
       "<style scoped>\n",
       "    .dataframe tbody tr th:only-of-type {\n",
       "        vertical-align: middle;\n",
       "    }\n",
       "\n",
       "    .dataframe tbody tr th {\n",
       "        vertical-align: top;\n",
       "    }\n",
       "\n",
       "    .dataframe thead th {\n",
       "        text-align: right;\n",
       "    }\n",
       "</style>\n",
       "<table border=\"1\" class=\"dataframe\">\n",
       "  <thead>\n",
       "    <tr style=\"text-align: right;\">\n",
       "      <th></th>\n",
       "      <th>Pregnancies</th>\n",
       "      <th>Glucose</th>\n",
       "      <th>BloodPressure</th>\n",
       "      <th>SkinThickness</th>\n",
       "      <th>Insulin</th>\n",
       "      <th>BMI</th>\n",
       "      <th>DiabetesPedigreeFunction</th>\n",
       "      <th>Age</th>\n",
       "      <th>Outcome</th>\n",
       "    </tr>\n",
       "  </thead>\n",
       "  <tbody>\n",
       "    <tr>\n",
       "      <th>0</th>\n",
       "      <td>6</td>\n",
       "      <td>148.0</td>\n",
       "      <td>72.0</td>\n",
       "      <td>35.00000</td>\n",
       "      <td>155.548223</td>\n",
       "      <td>33.6</td>\n",
       "      <td>0.627</td>\n",
       "      <td>50</td>\n",
       "      <td>1</td>\n",
       "    </tr>\n",
       "    <tr>\n",
       "      <th>1</th>\n",
       "      <td>1</td>\n",
       "      <td>85.0</td>\n",
       "      <td>66.0</td>\n",
       "      <td>29.00000</td>\n",
       "      <td>155.548223</td>\n",
       "      <td>26.6</td>\n",
       "      <td>0.351</td>\n",
       "      <td>31</td>\n",
       "      <td>0</td>\n",
       "    </tr>\n",
       "    <tr>\n",
       "      <th>2</th>\n",
       "      <td>8</td>\n",
       "      <td>183.0</td>\n",
       "      <td>64.0</td>\n",
       "      <td>29.15342</td>\n",
       "      <td>155.548223</td>\n",
       "      <td>23.3</td>\n",
       "      <td>0.672</td>\n",
       "      <td>32</td>\n",
       "      <td>1</td>\n",
       "    </tr>\n",
       "    <tr>\n",
       "      <th>3</th>\n",
       "      <td>1</td>\n",
       "      <td>89.0</td>\n",
       "      <td>66.0</td>\n",
       "      <td>23.00000</td>\n",
       "      <td>94.000000</td>\n",
       "      <td>28.1</td>\n",
       "      <td>0.167</td>\n",
       "      <td>21</td>\n",
       "      <td>0</td>\n",
       "    </tr>\n",
       "    <tr>\n",
       "      <th>4</th>\n",
       "      <td>0</td>\n",
       "      <td>137.0</td>\n",
       "      <td>40.0</td>\n",
       "      <td>35.00000</td>\n",
       "      <td>168.000000</td>\n",
       "      <td>43.1</td>\n",
       "      <td>2.288</td>\n",
       "      <td>33</td>\n",
       "      <td>1</td>\n",
       "    </tr>\n",
       "  </tbody>\n",
       "</table>\n",
       "</div>"
      ],
      "text/plain": [
       "   Pregnancies  Glucose  BloodPressure  SkinThickness     Insulin   BMI  \\\n",
       "0            6    148.0           72.0       35.00000  155.548223  33.6   \n",
       "1            1     85.0           66.0       29.00000  155.548223  26.6   \n",
       "2            8    183.0           64.0       29.15342  155.548223  23.3   \n",
       "3            1     89.0           66.0       23.00000   94.000000  28.1   \n",
       "4            0    137.0           40.0       35.00000  168.000000  43.1   \n",
       "\n",
       "   DiabetesPedigreeFunction  Age  Outcome  \n",
       "0                     0.627   50        1  \n",
       "1                     0.351   31        0  \n",
       "2                     0.672   32        1  \n",
       "3                     0.167   21        0  \n",
       "4                     2.288   33        1  "
      ]
     },
     "execution_count": 19,
     "metadata": {},
     "output_type": "execute_result"
    }
   ],
   "source": [
    "### replace NAN values with mean for columns\n",
    "Glucose_column = df[\"Glucose\"]\n",
    "Glucose_column.replace(to_replace = np.nan, value = Glucose_column.mean(), inplace=True)\n",
    "\n",
    "BloodPressure_column = df[\"BloodPressure\"]\n",
    "BloodPressure_column.replace(to_replace = np.nan, value = BloodPressure_column.mean(), inplace=True)\n",
    "\n",
    "SkinThickness_column = df[\"SkinThickness\"]\n",
    "SkinThickness_column.replace(to_replace = np.nan, value = SkinThickness_column.mean(), inplace=True)\n",
    "\n",
    "Insulin_column = df[\"Insulin\"]\n",
    "Insulin_column.replace(to_replace = np.nan, value = Insulin_column.mean(), inplace=True)\n",
    "\n",
    "BMI_column = df[\"BMI\"]\n",
    "BMI_column.replace(to_replace = np.nan, value = BMI_column.mean(), inplace=True)\n",
    "\n",
    "Age_column = df[\"Age\"]\n",
    "Age_column.replace(to_replace = np.nan, value = Age_column.mean(), inplace=True)\n",
    "\n",
    "DiabetesPedigreeFunction_column = df[\"DiabetesPedigreeFunction\"]\n",
    "DiabetesPedigreeFunction_column.replace(to_replace = np.nan, value = DiabetesPedigreeFunction_column.mean(), inplace=True)\n",
    "\n",
    "df.head()\n",
    "\n",
    "\n",
    "### Data Cleaning and Pre-processing is now complete for the dataset"
   ]
  },
  {
   "cell_type": "markdown",
   "id": "1daaf5c4",
   "metadata": {},
   "source": [
    "# Check for Correlation"
   ]
  },
  {
   "cell_type": "code",
   "execution_count": 20,
   "id": "e2db142a",
   "metadata": {},
   "outputs": [
    {
     "data": {
      "text/html": [
       "<style type=\"text/css\">\n",
       "#T_32f6b_row0_col0, #T_32f6b_row1_col1, #T_32f6b_row2_col2, #T_32f6b_row3_col3, #T_32f6b_row4_col4, #T_32f6b_row5_col5, #T_32f6b_row6_col6, #T_32f6b_row7_col7, #T_32f6b_row8_col8 {\n",
       "  background-color: #b40426;\n",
       "  color: #f1f1f1;\n",
       "}\n",
       "#T_32f6b_row0_col1, #T_32f6b_row0_col3, #T_32f6b_row0_col4, #T_32f6b_row0_col5, #T_32f6b_row0_col6, #T_32f6b_row2_col8, #T_32f6b_row5_col7, #T_32f6b_row6_col0, #T_32f6b_row6_col2 {\n",
       "  background-color: #3b4cc0;\n",
       "  color: #f1f1f1;\n",
       "}\n",
       "#T_32f6b_row0_col2 {\n",
       "  background-color: #7ea1fa;\n",
       "  color: #f1f1f1;\n",
       "}\n",
       "#T_32f6b_row0_col7, #T_32f6b_row3_col5 {\n",
       "  background-color: #e5d8d1;\n",
       "  color: #000000;\n",
       "}\n",
       "#T_32f6b_row0_col8 {\n",
       "  background-color: #4f69d9;\n",
       "  color: #f1f1f1;\n",
       "}\n",
       "#T_32f6b_row1_col0 {\n",
       "  background-color: #6b8df0;\n",
       "  color: #f1f1f1;\n",
       "}\n",
       "#T_32f6b_row1_col2 {\n",
       "  background-color: #82a6fb;\n",
       "  color: #f1f1f1;\n",
       "}\n",
       "#T_32f6b_row1_col3, #T_32f6b_row2_col3, #T_32f6b_row5_col1 {\n",
       "  background-color: #5f7fe8;\n",
       "  color: #f1f1f1;\n",
       "}\n",
       "#T_32f6b_row1_col4 {\n",
       "  background-color: #bbd1f8;\n",
       "  color: #000000;\n",
       "}\n",
       "#T_32f6b_row1_col5 {\n",
       "  background-color: #80a3fa;\n",
       "  color: #f1f1f1;\n",
       "}\n",
       "#T_32f6b_row1_col6, #T_32f6b_row8_col4 {\n",
       "  background-color: #6f92f3;\n",
       "  color: #f1f1f1;\n",
       "}\n",
       "#T_32f6b_row1_col7, #T_32f6b_row8_col0 {\n",
       "  background-color: #8caffe;\n",
       "  color: #000000;\n",
       "}\n",
       "#T_32f6b_row1_col8 {\n",
       "  background-color: #bed2f6;\n",
       "  color: #000000;\n",
       "}\n",
       "#T_32f6b_row2_col0 {\n",
       "  background-color: #86a9fc;\n",
       "  color: #f1f1f1;\n",
       "}\n",
       "#T_32f6b_row2_col1, #T_32f6b_row3_col7 {\n",
       "  background-color: #5a78e4;\n",
       "  color: #f1f1f1;\n",
       "}\n",
       "#T_32f6b_row2_col4 {\n",
       "  background-color: #3f53c6;\n",
       "  color: #f1f1f1;\n",
       "}\n",
       "#T_32f6b_row2_col5 {\n",
       "  background-color: #92b4fe;\n",
       "  color: #000000;\n",
       "}\n",
       "#T_32f6b_row2_col6 {\n",
       "  background-color: #4358cb;\n",
       "  color: #f1f1f1;\n",
       "}\n",
       "#T_32f6b_row2_col7 {\n",
       "  background-color: #a1c0ff;\n",
       "  color: #000000;\n",
       "}\n",
       "#T_32f6b_row3_col0 {\n",
       "  background-color: #5d7ce6;\n",
       "  color: #f1f1f1;\n",
       "}\n",
       "#T_32f6b_row3_col1, #T_32f6b_row4_col2 {\n",
       "  background-color: #516ddb;\n",
       "  color: #f1f1f1;\n",
       "}\n",
       "#T_32f6b_row3_col2 {\n",
       "  background-color: #799cf8;\n",
       "  color: #f1f1f1;\n",
       "}\n",
       "#T_32f6b_row3_col4 {\n",
       "  background-color: #5b7ae5;\n",
       "  color: #f1f1f1;\n",
       "}\n",
       "#T_32f6b_row3_col6 {\n",
       "  background-color: #6384eb;\n",
       "  color: #f1f1f1;\n",
       "}\n",
       "#T_32f6b_row3_col8 {\n",
       "  background-color: #4c66d6;\n",
       "  color: #f1f1f1;\n",
       "}\n",
       "#T_32f6b_row4_col0, #T_32f6b_row7_col8 {\n",
       "  background-color: #5572df;\n",
       "  color: #f1f1f1;\n",
       "}\n",
       "#T_32f6b_row4_col1 {\n",
       "  background-color: #aac7fd;\n",
       "  color: #000000;\n",
       "}\n",
       "#T_32f6b_row4_col3 {\n",
       "  background-color: #536edd;\n",
       "  color: #f1f1f1;\n",
       "}\n",
       "#T_32f6b_row4_col5 {\n",
       "  background-color: #688aef;\n",
       "  color: #f1f1f1;\n",
       "}\n",
       "#T_32f6b_row4_col6 {\n",
       "  background-color: #6282ea;\n",
       "  color: #f1f1f1;\n",
       "}\n",
       "#T_32f6b_row4_col7, #T_32f6b_row5_col4 {\n",
       "  background-color: #5e7de7;\n",
       "  color: #f1f1f1;\n",
       "}\n",
       "#T_32f6b_row4_col8 {\n",
       "  background-color: #4b64d5;\n",
       "  color: #f1f1f1;\n",
       "}\n",
       "#T_32f6b_row5_col0 {\n",
       "  background-color: #4a63d3;\n",
       "  color: #f1f1f1;\n",
       "}\n",
       "#T_32f6b_row5_col2 {\n",
       "  background-color: #98b9ff;\n",
       "  color: #000000;\n",
       "}\n",
       "#T_32f6b_row5_col3 {\n",
       "  background-color: #dddcdc;\n",
       "  color: #000000;\n",
       "}\n",
       "#T_32f6b_row5_col6 {\n",
       "  background-color: #7597f6;\n",
       "  color: #f1f1f1;\n",
       "}\n",
       "#T_32f6b_row5_col8 {\n",
       "  background-color: #7295f4;\n",
       "  color: #f1f1f1;\n",
       "}\n",
       "#T_32f6b_row6_col1, #T_32f6b_row6_col7, #T_32f6b_row6_col8 {\n",
       "  background-color: #3d50c3;\n",
       "  color: #f1f1f1;\n",
       "}\n",
       "#T_32f6b_row6_col3 {\n",
       "  background-color: #4055c8;\n",
       "  color: #f1f1f1;\n",
       "}\n",
       "#T_32f6b_row6_col4 {\n",
       "  background-color: #485fd1;\n",
       "  color: #f1f1f1;\n",
       "}\n",
       "#T_32f6b_row6_col5 {\n",
       "  background-color: #6485ec;\n",
       "  color: #f1f1f1;\n",
       "}\n",
       "#T_32f6b_row7_col0 {\n",
       "  background-color: #ebd3c6;\n",
       "  color: #000000;\n",
       "}\n",
       "#T_32f6b_row7_col1 {\n",
       "  background-color: #6c8ff1;\n",
       "  color: #f1f1f1;\n",
       "}\n",
       "#T_32f6b_row7_col2 {\n",
       "  background-color: #a7c5fe;\n",
       "  color: #000000;\n",
       "}\n",
       "#T_32f6b_row7_col3 {\n",
       "  background-color: #4961d2;\n",
       "  color: #f1f1f1;\n",
       "}\n",
       "#T_32f6b_row7_col4 {\n",
       "  background-color: #5470de;\n",
       "  color: #f1f1f1;\n",
       "}\n",
       "#T_32f6b_row7_col5 {\n",
       "  background-color: #3c4ec2;\n",
       "  color: #f1f1f1;\n",
       "}\n",
       "#T_32f6b_row7_col6 {\n",
       "  background-color: #4e68d8;\n",
       "  color: #f1f1f1;\n",
       "}\n",
       "#T_32f6b_row8_col1 {\n",
       "  background-color: #c6d6f1;\n",
       "  color: #000000;\n",
       "}\n",
       "#T_32f6b_row8_col2 {\n",
       "  background-color: #7093f3;\n",
       "  color: #f1f1f1;\n",
       "}\n",
       "#T_32f6b_row8_col3 {\n",
       "  background-color: #6788ee;\n",
       "  color: #f1f1f1;\n",
       "}\n",
       "#T_32f6b_row8_col5 {\n",
       "  background-color: #9dbdff;\n",
       "  color: #000000;\n",
       "}\n",
       "#T_32f6b_row8_col6 {\n",
       "  background-color: #7b9ff9;\n",
       "  color: #f1f1f1;\n",
       "}\n",
       "#T_32f6b_row8_col7 {\n",
       "  background-color: #81a4fb;\n",
       "  color: #f1f1f1;\n",
       "}\n",
       "</style>\n",
       "<table id=\"T_32f6b\">\n",
       "  <thead>\n",
       "    <tr>\n",
       "      <th class=\"blank level0\" >&nbsp;</th>\n",
       "      <th id=\"T_32f6b_level0_col0\" class=\"col_heading level0 col0\" >Pregnancies</th>\n",
       "      <th id=\"T_32f6b_level0_col1\" class=\"col_heading level0 col1\" >Glucose</th>\n",
       "      <th id=\"T_32f6b_level0_col2\" class=\"col_heading level0 col2\" >BloodPressure</th>\n",
       "      <th id=\"T_32f6b_level0_col3\" class=\"col_heading level0 col3\" >SkinThickness</th>\n",
       "      <th id=\"T_32f6b_level0_col4\" class=\"col_heading level0 col4\" >Insulin</th>\n",
       "      <th id=\"T_32f6b_level0_col5\" class=\"col_heading level0 col5\" >BMI</th>\n",
       "      <th id=\"T_32f6b_level0_col6\" class=\"col_heading level0 col6\" >DiabetesPedigreeFunction</th>\n",
       "      <th id=\"T_32f6b_level0_col7\" class=\"col_heading level0 col7\" >Age</th>\n",
       "      <th id=\"T_32f6b_level0_col8\" class=\"col_heading level0 col8\" >Outcome</th>\n",
       "    </tr>\n",
       "  </thead>\n",
       "  <tbody>\n",
       "    <tr>\n",
       "      <th id=\"T_32f6b_level0_row0\" class=\"row_heading level0 row0\" >Pregnancies</th>\n",
       "      <td id=\"T_32f6b_row0_col0\" class=\"data row0 col0\" >1.000000</td>\n",
       "      <td id=\"T_32f6b_row0_col1\" class=\"data row0 col1\" >0.127911</td>\n",
       "      <td id=\"T_32f6b_row0_col2\" class=\"data row0 col2\" >0.208522</td>\n",
       "      <td id=\"T_32f6b_row0_col3\" class=\"data row0 col3\" >0.082989</td>\n",
       "      <td id=\"T_32f6b_row0_col4\" class=\"data row0 col4\" >0.056027</td>\n",
       "      <td id=\"T_32f6b_row0_col5\" class=\"data row0 col5\" >0.021565</td>\n",
       "      <td id=\"T_32f6b_row0_col6\" class=\"data row0 col6\" >-0.033523</td>\n",
       "      <td id=\"T_32f6b_row0_col7\" class=\"data row0 col7\" >0.544341</td>\n",
       "      <td id=\"T_32f6b_row0_col8\" class=\"data row0 col8\" >0.221898</td>\n",
       "    </tr>\n",
       "    <tr>\n",
       "      <th id=\"T_32f6b_level0_row1\" class=\"row_heading level0 row1\" >Glucose</th>\n",
       "      <td id=\"T_32f6b_row1_col0\" class=\"data row1 col0\" >0.127911</td>\n",
       "      <td id=\"T_32f6b_row1_col1\" class=\"data row1 col1\" >1.000000</td>\n",
       "      <td id=\"T_32f6b_row1_col2\" class=\"data row1 col2\" >0.218367</td>\n",
       "      <td id=\"T_32f6b_row1_col3\" class=\"data row1 col3\" >0.192991</td>\n",
       "      <td id=\"T_32f6b_row1_col4\" class=\"data row1 col4\" >0.420157</td>\n",
       "      <td id=\"T_32f6b_row1_col5\" class=\"data row1 col5\" >0.230941</td>\n",
       "      <td id=\"T_32f6b_row1_col6\" class=\"data row1 col6\" >0.137060</td>\n",
       "      <td id=\"T_32f6b_row1_col7\" class=\"data row1 col7\" >0.266534</td>\n",
       "      <td id=\"T_32f6b_row1_col8\" class=\"data row1 col8\" >0.492928</td>\n",
       "    </tr>\n",
       "    <tr>\n",
       "      <th id=\"T_32f6b_level0_row2\" class=\"row_heading level0 row2\" >BloodPressure</th>\n",
       "      <td id=\"T_32f6b_row2_col0\" class=\"data row2 col0\" >0.208522</td>\n",
       "      <td id=\"T_32f6b_row2_col1\" class=\"data row2 col1\" >0.218367</td>\n",
       "      <td id=\"T_32f6b_row2_col2\" class=\"data row2 col2\" >1.000000</td>\n",
       "      <td id=\"T_32f6b_row2_col3\" class=\"data row2 col3\" >0.192816</td>\n",
       "      <td id=\"T_32f6b_row2_col4\" class=\"data row2 col4\" >0.072517</td>\n",
       "      <td id=\"T_32f6b_row2_col5\" class=\"data row2 col5\" >0.281268</td>\n",
       "      <td id=\"T_32f6b_row2_col6\" class=\"data row2 col6\" >-0.002763</td>\n",
       "      <td id=\"T_32f6b_row2_col7\" class=\"data row2 col7\" >0.324595</td>\n",
       "      <td id=\"T_32f6b_row2_col8\" class=\"data row2 col8\" >0.166074</td>\n",
       "    </tr>\n",
       "    <tr>\n",
       "      <th id=\"T_32f6b_level0_row3\" class=\"row_heading level0 row3\" >SkinThickness</th>\n",
       "      <td id=\"T_32f6b_row3_col0\" class=\"data row3 col0\" >0.082989</td>\n",
       "      <td id=\"T_32f6b_row3_col1\" class=\"data row3 col1\" >0.192991</td>\n",
       "      <td id=\"T_32f6b_row3_col2\" class=\"data row3 col2\" >0.192816</td>\n",
       "      <td id=\"T_32f6b_row3_col3\" class=\"data row3 col3\" >1.000000</td>\n",
       "      <td id=\"T_32f6b_row3_col4\" class=\"data row3 col4\" >0.158139</td>\n",
       "      <td id=\"T_32f6b_row3_col5\" class=\"data row3 col5\" >0.542398</td>\n",
       "      <td id=\"T_32f6b_row3_col6\" class=\"data row3 col6\" >0.100966</td>\n",
       "      <td id=\"T_32f6b_row3_col7\" class=\"data row3 col7\" >0.127872</td>\n",
       "      <td id=\"T_32f6b_row3_col8\" class=\"data row3 col8\" >0.215299</td>\n",
       "    </tr>\n",
       "    <tr>\n",
       "      <th id=\"T_32f6b_level0_row4\" class=\"row_heading level0 row4\" >Insulin</th>\n",
       "      <td id=\"T_32f6b_row4_col0\" class=\"data row4 col0\" >0.056027</td>\n",
       "      <td id=\"T_32f6b_row4_col1\" class=\"data row4 col1\" >0.420157</td>\n",
       "      <td id=\"T_32f6b_row4_col2\" class=\"data row4 col2\" >0.072517</td>\n",
       "      <td id=\"T_32f6b_row4_col3\" class=\"data row4 col3\" >0.158139</td>\n",
       "      <td id=\"T_32f6b_row4_col4\" class=\"data row4 col4\" >1.000000</td>\n",
       "      <td id=\"T_32f6b_row4_col5\" class=\"data row4 col5\" >0.166586</td>\n",
       "      <td id=\"T_32f6b_row4_col6\" class=\"data row4 col6\" >0.098634</td>\n",
       "      <td id=\"T_32f6b_row4_col7\" class=\"data row4 col7\" >0.136734</td>\n",
       "      <td id=\"T_32f6b_row4_col8\" class=\"data row4 col8\" >0.214411</td>\n",
       "    </tr>\n",
       "    <tr>\n",
       "      <th id=\"T_32f6b_level0_row5\" class=\"row_heading level0 row5\" >BMI</th>\n",
       "      <td id=\"T_32f6b_row5_col0\" class=\"data row5 col0\" >0.021565</td>\n",
       "      <td id=\"T_32f6b_row5_col1\" class=\"data row5 col1\" >0.230941</td>\n",
       "      <td id=\"T_32f6b_row5_col2\" class=\"data row5 col2\" >0.281268</td>\n",
       "      <td id=\"T_32f6b_row5_col3\" class=\"data row5 col3\" >0.542398</td>\n",
       "      <td id=\"T_32f6b_row5_col4\" class=\"data row5 col4\" >0.166586</td>\n",
       "      <td id=\"T_32f6b_row5_col5\" class=\"data row5 col5\" >1.000000</td>\n",
       "      <td id=\"T_32f6b_row5_col6\" class=\"data row5 col6\" >0.153400</td>\n",
       "      <td id=\"T_32f6b_row5_col7\" class=\"data row5 col7\" >0.025519</td>\n",
       "      <td id=\"T_32f6b_row5_col8\" class=\"data row5 col8\" >0.311924</td>\n",
       "    </tr>\n",
       "    <tr>\n",
       "      <th id=\"T_32f6b_level0_row6\" class=\"row_heading level0 row6\" >DiabetesPedigreeFunction</th>\n",
       "      <td id=\"T_32f6b_row6_col0\" class=\"data row6 col0\" >-0.033523</td>\n",
       "      <td id=\"T_32f6b_row6_col1\" class=\"data row6 col1\" >0.137060</td>\n",
       "      <td id=\"T_32f6b_row6_col2\" class=\"data row6 col2\" >-0.002763</td>\n",
       "      <td id=\"T_32f6b_row6_col3\" class=\"data row6 col3\" >0.100966</td>\n",
       "      <td id=\"T_32f6b_row6_col4\" class=\"data row6 col4\" >0.098634</td>\n",
       "      <td id=\"T_32f6b_row6_col5\" class=\"data row6 col5\" >0.153400</td>\n",
       "      <td id=\"T_32f6b_row6_col6\" class=\"data row6 col6\" >1.000000</td>\n",
       "      <td id=\"T_32f6b_row6_col7\" class=\"data row6 col7\" >0.033561</td>\n",
       "      <td id=\"T_32f6b_row6_col8\" class=\"data row6 col8\" >0.173844</td>\n",
       "    </tr>\n",
       "    <tr>\n",
       "      <th id=\"T_32f6b_level0_row7\" class=\"row_heading level0 row7\" >Age</th>\n",
       "      <td id=\"T_32f6b_row7_col0\" class=\"data row7 col0\" >0.544341</td>\n",
       "      <td id=\"T_32f6b_row7_col1\" class=\"data row7 col1\" >0.266534</td>\n",
       "      <td id=\"T_32f6b_row7_col2\" class=\"data row7 col2\" >0.324595</td>\n",
       "      <td id=\"T_32f6b_row7_col3\" class=\"data row7 col3\" >0.127872</td>\n",
       "      <td id=\"T_32f6b_row7_col4\" class=\"data row7 col4\" >0.136734</td>\n",
       "      <td id=\"T_32f6b_row7_col5\" class=\"data row7 col5\" >0.025519</td>\n",
       "      <td id=\"T_32f6b_row7_col6\" class=\"data row7 col6\" >0.033561</td>\n",
       "      <td id=\"T_32f6b_row7_col7\" class=\"data row7 col7\" >1.000000</td>\n",
       "      <td id=\"T_32f6b_row7_col8\" class=\"data row7 col8\" >0.238356</td>\n",
       "    </tr>\n",
       "    <tr>\n",
       "      <th id=\"T_32f6b_level0_row8\" class=\"row_heading level0 row8\" >Outcome</th>\n",
       "      <td id=\"T_32f6b_row8_col0\" class=\"data row8 col0\" >0.221898</td>\n",
       "      <td id=\"T_32f6b_row8_col1\" class=\"data row8 col1\" >0.492928</td>\n",
       "      <td id=\"T_32f6b_row8_col2\" class=\"data row8 col2\" >0.166074</td>\n",
       "      <td id=\"T_32f6b_row8_col3\" class=\"data row8 col3\" >0.215299</td>\n",
       "      <td id=\"T_32f6b_row8_col4\" class=\"data row8 col4\" >0.214411</td>\n",
       "      <td id=\"T_32f6b_row8_col5\" class=\"data row8 col5\" >0.311924</td>\n",
       "      <td id=\"T_32f6b_row8_col6\" class=\"data row8 col6\" >0.173844</td>\n",
       "      <td id=\"T_32f6b_row8_col7\" class=\"data row8 col7\" >0.238356</td>\n",
       "      <td id=\"T_32f6b_row8_col8\" class=\"data row8 col8\" >1.000000</td>\n",
       "    </tr>\n",
       "  </tbody>\n",
       "</table>\n"
      ],
      "text/plain": [
       "<pandas.io.formats.style.Styler at 0x20a51962700>"
      ]
     },
     "execution_count": 20,
     "metadata": {},
     "output_type": "execute_result"
    }
   ],
   "source": [
    "### Correlation heatmap from seaborn\n",
    "corr = df.corr()\n",
    "corr\n",
    "heatmap = corr.style.background_gradient(cmap ='coolwarm')\n",
    "heatmap"
   ]
  },
  {
   "cell_type": "markdown",
   "id": "ec0c7dab",
   "metadata": {},
   "source": [
    "Highest correlation between feature and Diabetes Outcome of 1 is Glucose with a correlation score of 0.493\n",
    "Lowest correlation between feature and Diabetes Outcome of 1 is BloodPressure with a corr score of 0.166"
   ]
  },
  {
   "cell_type": "markdown",
   "id": "1a79396a",
   "metadata": {},
   "source": [
    "# Evaluation of ML Models for Diabetes Prediction\n"
   ]
  },
  {
   "cell_type": "code",
   "execution_count": 21,
   "id": "18bebe73",
   "metadata": {},
   "outputs": [
    {
     "name": "stdout",
     "output_type": "stream",
     "text": [
      "     Pregnancies  Glucose  BloodPressure  SkinThickness     Insulin   BMI  \\\n",
      "0              6    148.0           72.0       35.00000  155.548223  33.6   \n",
      "1              1     85.0           66.0       29.00000  155.548223  26.6   \n",
      "2              8    183.0           64.0       29.15342  155.548223  23.3   \n",
      "3              1     89.0           66.0       23.00000   94.000000  28.1   \n",
      "4              0    137.0           40.0       35.00000  168.000000  43.1   \n",
      "..           ...      ...            ...            ...         ...   ...   \n",
      "763           10    101.0           76.0       48.00000  180.000000  32.9   \n",
      "764            2    122.0           70.0       27.00000  155.548223  36.8   \n",
      "765            5    121.0           72.0       23.00000  112.000000  26.2   \n",
      "766            1    126.0           60.0       29.15342  155.548223  30.1   \n",
      "767            1     93.0           70.0       31.00000  155.548223  30.4   \n",
      "\n",
      "     DiabetesPedigreeFunction  Age  \n",
      "0                       0.627   50  \n",
      "1                       0.351   31  \n",
      "2                       0.672   32  \n",
      "3                       0.167   21  \n",
      "4                       2.288   33  \n",
      "..                        ...  ...  \n",
      "763                     0.171   63  \n",
      "764                     0.340   27  \n",
      "765                     0.245   30  \n",
      "766                     0.349   47  \n",
      "767                     0.315   23  \n",
      "\n",
      "[768 rows x 8 columns]\n",
      "[1 0 1 0 1 0 1 0 1 1 0 1 0 1 1 1 1 1 0 1 0 0 1 1 1 1 1 0 0 0 0 1 0 0 0 0 0\n",
      " 1 1 1 0 0 0 1 0 1 0 0 1 0 0 0 0 1 0 0 1 0 0 0 0 1 0 0 1 0 1 0 0 0 1 0 1 0\n",
      " 0 0 0 0 1 0 0 0 0 0 1 0 0 0 1 0 0 0 0 1 0 0 0 0 0 1 1 0 0 0 0 0 0 0 0 1 1\n",
      " 1 0 0 1 1 1 0 0 0 1 0 0 0 1 1 0 0 1 1 1 1 1 0 0 0 0 0 0 0 0 0 0 1 0 0 0 0\n",
      " 0 0 0 0 1 0 1 1 0 0 0 1 0 0 0 0 1 1 0 0 0 0 1 1 0 0 0 1 0 1 0 1 0 0 0 0 0\n",
      " 1 1 1 1 1 0 0 1 1 0 1 0 1 1 1 0 0 0 0 0 0 1 1 0 1 0 0 0 1 1 1 1 0 1 1 1 1\n",
      " 0 0 0 0 0 1 0 0 1 1 0 0 0 1 1 1 1 0 0 0 1 1 0 1 0 0 0 0 0 0 0 0 1 1 0 0 0\n",
      " 1 0 1 0 0 1 0 1 0 0 1 1 0 0 0 0 0 1 0 0 0 1 0 0 1 1 0 0 1 0 0 0 1 1 1 0 0\n",
      " 1 0 1 0 1 1 0 1 0 0 1 0 1 1 0 0 1 0 1 0 0 1 0 1 0 1 1 1 0 0 1 0 1 0 0 0 1\n",
      " 0 0 0 0 1 1 1 0 0 0 0 0 0 0 0 0 1 0 0 0 0 0 1 1 1 0 1 1 0 0 1 0 0 1 0 0 1\n",
      " 1 0 0 0 0 1 0 0 1 0 0 0 0 0 0 0 1 1 1 0 0 1 0 0 1 0 0 1 0 1 1 0 1 0 1 0 1\n",
      " 0 1 1 0 0 0 0 1 1 0 1 0 1 0 0 0 0 1 1 0 1 0 1 0 0 0 0 0 1 0 0 0 0 1 0 0 1\n",
      " 1 1 0 0 1 0 0 1 0 0 0 1 0 0 1 0 0 0 0 0 0 0 0 0 1 0 0 0 0 0 0 0 1 0 0 0 1\n",
      " 0 0 0 1 1 0 0 0 0 0 0 0 1 0 0 0 0 1 0 0 0 1 0 0 0 1 0 0 0 1 0 0 0 0 1 1 0\n",
      " 0 0 0 0 0 1 0 0 0 0 0 0 0 0 0 0 0 1 0 0 0 1 1 1 1 0 0 1 1 0 0 0 0 0 0 0 0\n",
      " 0 0 0 0 0 1 1 0 0 0 0 0 0 0 1 0 0 0 0 0 0 0 1 0 1 1 0 0 0 1 0 1 0 1 0 1 0\n",
      " 1 0 0 1 0 0 1 0 0 0 0 1 1 0 1 0 0 0 0 1 1 0 1 0 0 0 1 1 0 0 0 0 0 0 0 0 0\n",
      " 0 1 0 0 0 0 1 0 0 1 0 0 0 1 0 0 0 1 1 1 0 0 0 0 0 0 1 0 0 0 1 0 1 1 1 1 0\n",
      " 1 1 0 0 0 0 0 0 0 1 1 0 1 0 0 1 0 1 0 0 0 0 0 1 0 1 0 1 0 1 1 0 0 0 0 1 1\n",
      " 0 0 0 1 0 1 1 0 0 1 0 0 1 1 0 0 1 0 0 1 0 0 0 0 0 0 0 1 1 1 0 0 0 0 0 0 1\n",
      " 1 0 0 1 0 0 1 0 1 1 1 0 0 1 1 1 0 1 0 1 0 1 0 0 0 0 1 0]\n"
     ]
    }
   ],
   "source": [
    "X = df.iloc[:, :-1]\n",
    "y = df.iloc[:, -1].values\n",
    "\n",
    "print(X)\n",
    "print(y)"
   ]
  },
  {
   "cell_type": "code",
   "execution_count": 22,
   "id": "7ce732cc",
   "metadata": {},
   "outputs": [],
   "source": [
    "### Split dataset into train and test sets\n",
    "\n",
    "X_train, X_test, y_train, y_test = train_test_split(X, y, test_size = 0.2, random_state = 0)"
   ]
  },
  {
   "cell_type": "code",
   "execution_count": 23,
   "id": "fb513850",
   "metadata": {},
   "outputs": [],
   "source": [
    "# Normalise the data for ease of processing \n",
    "\n",
    "sc = StandardScaler()\n",
    "X_train = sc.fit_transform(X_train)\n",
    "X_test = sc.fit_transform(X_test)"
   ]
  },
  {
   "cell_type": "markdown",
   "id": "983c5d0c",
   "metadata": {},
   "source": [
    "# Application of Machine Learning models"
   ]
  },
  {
   "cell_type": "markdown",
   "id": "21bbfea5",
   "metadata": {},
   "source": [
    "# Logistic Regression "
   ]
  },
  {
   "cell_type": "code",
   "execution_count": 24,
   "id": "249752ba",
   "metadata": {},
   "outputs": [
    {
     "data": {
      "text/plain": [
       "LogisticRegression(random_state=0)"
      ]
     },
     "execution_count": 24,
     "metadata": {},
     "output_type": "execute_result"
    }
   ],
   "source": [
    "logistic_regression = LogisticRegression(random_state = 0)\n",
    "logistic_regression.fit(X_train, y_train)"
   ]
  },
  {
   "cell_type": "code",
   "execution_count": 25,
   "id": "0c448c3a",
   "metadata": {},
   "outputs": [],
   "source": [
    "### making prediction\n",
    "Y_pred_logistic_regression = logistic_regression.predict(X_test)"
   ]
  },
  {
   "cell_type": "code",
   "execution_count": 26,
   "id": "90608fdc",
   "metadata": {},
   "outputs": [],
   "source": [
    "### evaluating accuracy scores on test set\n",
    "accuracy_logistic_regression = accuracy_score(y_test, Y_pred_logistic_regression)"
   ]
  },
  {
   "cell_type": "code",
   "execution_count": 27,
   "id": "2944f3c2",
   "metadata": {},
   "outputs": [
    {
     "name": "stdout",
     "output_type": "stream",
     "text": [
      "Logistic Regression CM:  [[97 10]\n",
      " [18 29]]\n",
      "\n",
      "               precision    recall  f1-score   support\n",
      "\n",
      "           0       0.84      0.91      0.87       107\n",
      "           1       0.74      0.62      0.67        47\n",
      "\n",
      "    accuracy                           0.82       154\n",
      "   macro avg       0.79      0.76      0.77       154\n",
      "weighted avg       0.81      0.82      0.81       154\n",
      "\n"
     ]
    }
   ],
   "source": [
    "### Confusion matrix and Evalaution Scores\n",
    "\n",
    "print('Logistic Regression CM: ' , confusion_matrix(y_test, Y_pred_logistic_regression))\n",
    "print('\\n', classification_report(y_test, Y_pred_logistic_regression))"
   ]
  },
  {
   "cell_type": "code",
   "execution_count": 37,
   "id": "51d97a78",
   "metadata": {},
   "outputs": [
    {
     "data": {
      "text/plain": [
       "[Text(0.5, 1.0, 'Confusion Matrix of Logistic Regression')]"
      ]
     },
     "execution_count": 37,
     "metadata": {},
     "output_type": "execute_result"
    },
    {
     "data": {
      "image/png": "[encoded data removed]",
      "text/plain": [
       "<Figure size 432x288 with 2 Axes>"
      ]
     },
     "metadata": {
      "needs_background": "light"
     },
     "output_type": "display_data"
    }
   ],
   "source": [
    "### visualisation of confusion matrix\n",
    "cm_matrix_lr = confusion_matrix(y_test, Y_pred_logistic_regression)\n",
    "sns.heatmap(cm_matrix_lr, annot=True).set(title = 'Confusion Matrix of Logistic Regression')"
   ]
  },
  {
   "cell_type": "code",
   "execution_count": 28,
   "id": "b6e472a7",
   "metadata": {},
   "outputs": [],
   "source": [
    "### ROC and AUC for model evaluation\n",
    "y_pred_probability= logistic_regression.predict_proba(X_test)[::,1]"
   ]
  },
  {
   "cell_type": "code",
   "execution_count": 29,
   "id": "72cacc9b",
   "metadata": {},
   "outputs": [],
   "source": [
    "false_positive_rate, true_positive_rate, _ = metrics.roc_curve(y_test, y_pred_probability)"
   ]
  },
  {
   "cell_type": "code",
   "execution_count": 30,
   "id": "fb914812",
   "metadata": {},
   "outputs": [],
   "source": [
    "auc= metrics.roc_auc_score(y_test, y_pred_probability)"
   ]
  },
  {
   "cell_type": "code",
   "execution_count": 34,
   "id": "2d7e1d7c",
   "metadata": {},
   "outputs": [
    {
     "data": {
      "text/plain": [
       "<matplotlib.legend.Legend at 0x20a560925b0>"
      ]
     },
     "execution_count": 34,
     "metadata": {},
     "output_type": "execute_result"
    },
    {
     "data": {
      "image/png": "[encoded data removed]",
      "text/plain": [
       "<Figure size 432x288 with 1 Axes>"
      ]
     },
     "metadata": {
      "needs_background": "light"
     },
     "output_type": "display_data"
    }
   ],
   "source": [
    "%matplotlib inline\n",
    "plt.plot(false_positive_rate, true_positive_rate,label = \"AUC=\" + str(auc))\n",
    "plt.title('Logistic Regression Model - ROC Curve')\n",
    "plt.ylabel('True Positive Rate')\n",
    "plt.xlabel('False Positive Rate')\n",
    "plt.legend(loc=4)"
   ]
  },
  {
   "cell_type": "markdown",
   "id": "bfb11140",
   "metadata": {},
   "source": [
    "AUC score of 0.87 acheived which is a great result, with 1.0 being the maximum."
   ]
  },
  {
   "cell_type": "code",
   "execution_count": 62,
   "id": "92989e3a",
   "metadata": {},
   "outputs": [
    {
     "name": "stderr",
     "output_type": "stream",
     "text": [
      "C:\\Users\\carlp\\anaconda3\\lib\\site-packages\\sklearn\\base.py:443: UserWarning: X has feature names, but LogisticRegression was fitted without feature names\n",
      "  warnings.warn(\n"
     ]
    },
    {
     "data": {
      "text/plain": [
       "array([1], dtype=int64)"
      ]
     },
     "execution_count": 62,
     "metadata": {},
     "output_type": "execute_result"
    }
   ],
   "source": [
    "### Identifying which features have the greatest influence on the model prediction of Diabetes\n",
    "\n",
    "### preparing the features \n",
    "X.columns\n",
    "\n",
    "random_patient = X.sample(1, random_state = 50)\n",
    "\n",
    "logistic_regression.predict(random_patient)"
   ]
  },
  {
   "cell_type": "code",
   "execution_count": 64,
   "id": "c8a7900b",
   "metadata": {},
   "outputs": [
    {
     "data": {
      "image/png": "[encoded data removed]",
      "text/plain": [
       "<Figure size 720x720 with 1 Axes>"
      ]
     },
     "metadata": {},
     "output_type": "display_data"
    }
   ],
   "source": [
    "### Visualising the features contributing to the models prediction of Diabetes\n",
    "\n",
    "Diabetes_features = pd.DataFrame({'Value': logistic_regression.coef_[8], 'Feature': X.columns})\n",
    "plt.figure(figsize=(10, 10))\n",
    "sns.set(font_scale=1)\n",
    "sns.barplot(x=\"Value\", y=\"Feature\", data = Diabetes_features.sort_values(by = \"Value\", ascending=False)[0:8])\n",
    "plt.title('Features')\n",
    "plt.tight_layout()\n",
    "plt.show()"
   ]
  },
  {
   "cell_type": "markdown",
   "id": "069a7957",
   "metadata": {},
   "source": [
    "Glucose measurement is clearly the most determinant feature for Diabetes in this dataset"
   ]
  },
  {
   "cell_type": "markdown",
   "id": "45518e15",
   "metadata": {},
   "source": [
    "# K Nearest Neighbor "
   ]
  },
  {
   "cell_type": "code",
   "execution_count": 38,
   "id": "66d2a844",
   "metadata": {},
   "outputs": [
    {
     "data": {
      "text/plain": [
       "KNeighborsClassifier(n_neighbors=10)"
      ]
     },
     "execution_count": 38,
     "metadata": {},
     "output_type": "execute_result"
    }
   ],
   "source": [
    "knn = KNeighborsClassifier(n_neighbors = 10, metric = 'minkowski', p = 2)\n",
    "knn.fit(X_train, y_train)\n",
    "\n",
    "### lets select 10 as number of nearest neighbors as a default, this could be any number in reality and can be optimised later"
   ]
  },
  {
   "cell_type": "code",
   "execution_count": 39,
   "id": "4fb42d33",
   "metadata": {},
   "outputs": [],
   "source": [
    "### making a prediction using the trained model\n",
    "Y_pred_knn = knn.predict(X_test)"
   ]
  },
  {
   "cell_type": "code",
   "execution_count": 40,
   "id": "67214fa6",
   "metadata": {},
   "outputs": [],
   "source": [
    "accuracy_knn = accuracy_score(y_test, Y_pred_knn)"
   ]
  },
  {
   "cell_type": "code",
   "execution_count": 41,
   "id": "02cc2479",
   "metadata": {},
   "outputs": [
    {
     "name": "stdout",
     "output_type": "stream",
     "text": [
      "KNN CM: [[96 11]\n",
      " [21 26]]\n",
      "              precision    recall  f1-score   support\n",
      "\n",
      "           0       0.82      0.90      0.86       107\n",
      "           1       0.70      0.55      0.62        47\n",
      "\n",
      "    accuracy                           0.79       154\n",
      "   macro avg       0.76      0.73      0.74       154\n",
      "weighted avg       0.78      0.79      0.78       154\n",
      "\n"
     ]
    }
   ],
   "source": [
    "print('KNN CM:',confusion_matrix(y_test, Y_pred_knn))\n",
    "print(classification_report(y_test, Y_pred_knn))\n"
   ]
  },
  {
   "cell_type": "code",
   "execution_count": 42,
   "id": "e74133f0",
   "metadata": {},
   "outputs": [
    {
     "data": {
      "text/plain": [
       "[Text(0.5, 1.0, 'Confusion Matrix of KNN')]"
      ]
     },
     "execution_count": 42,
     "metadata": {},
     "output_type": "execute_result"
    },
    {
     "data": {
      "image/png": "[encoded data removed]",
      "text/plain": [
       "<Figure size 432x288 with 2 Axes>"
      ]
     },
     "metadata": {
      "needs_background": "light"
     },
     "output_type": "display_data"
    }
   ],
   "source": [
    "### visualisation of confusion matrix\n",
    "cm_matrix_knn = confusion_matrix(y_test, Y_pred_knn)\n",
    "sns.heatmap(cm_matrix_knn, annot=True).set(title = 'Confusion Matrix of KNN')"
   ]
  },
  {
   "cell_type": "code",
   "execution_count": 32,
   "id": "823d55cf",
   "metadata": {},
   "outputs": [],
   "source": [
    "### ROC and AUC for model evaluation\n",
    "y_pred_proba_knn= knn.predict_proba(X_test)[::,1]"
   ]
  },
  {
   "cell_type": "code",
   "execution_count": 33,
   "id": "39fce42e",
   "metadata": {},
   "outputs": [],
   "source": [
    "false_positive_rate, true_positive_rate, _ = metrics.roc_curve(y_test, y_pred_proba_knn)"
   ]
  },
  {
   "cell_type": "code",
   "execution_count": 34,
   "id": "8a09db4e",
   "metadata": {},
   "outputs": [],
   "source": [
    "auc= metrics.roc_auc_score(y_test, y_pred_proba_knn)"
   ]
  },
  {
   "cell_type": "code",
   "execution_count": 35,
   "id": "ca6637db",
   "metadata": {},
   "outputs": [
    {
     "data": {
      "text/plain": [
       "<matplotlib.legend.Legend at 0x254bf4cbc70>"
      ]
     },
     "execution_count": 35,
     "metadata": {},
     "output_type": "execute_result"
    },
    {
     "data": {
      "image/png": "[encoded data removed]",
      "text/plain": [
       "<Figure size 432x288 with 1 Axes>"
      ]
     },
     "metadata": {
      "needs_background": "light"
     },
     "output_type": "display_data"
    }
   ],
   "source": [
    "plt.plot(false_positive_rate, true_positive_rate,label=\"AUC=\"+str(auc))\n",
    "plt.title('KNN - ROC Curve')\n",
    "plt.ylabel('True Positive Rate')\n",
    "plt.xlabel('False Positive Rate')\n",
    "plt.legend(loc=4)"
   ]
  },
  {
   "cell_type": "markdown",
   "id": "e79b25b0",
   "metadata": {},
   "source": [
    "#  SVC "
   ]
  },
  {
   "cell_type": "code",
   "execution_count": 43,
   "id": "a4a69d46",
   "metadata": {},
   "outputs": [
    {
     "data": {
      "text/plain": [
       "SVC(kernel='linear', random_state=0)"
      ]
     },
     "execution_count": 43,
     "metadata": {},
     "output_type": "execute_result"
    }
   ],
   "source": [
    "svc = SVC(kernel = 'linear', random_state = 0)\n",
    "svc.fit(X_train, y_train)"
   ]
  },
  {
   "cell_type": "code",
   "execution_count": 44,
   "id": "5ed52edc",
   "metadata": {},
   "outputs": [],
   "source": [
    "Y_pred_svc = svc.predict(X_test)"
   ]
  },
  {
   "cell_type": "code",
   "execution_count": 45,
   "id": "af40dd39",
   "metadata": {},
   "outputs": [],
   "source": [
    "accuracy_svc = accuracy_score(y_test, Y_pred_svc)"
   ]
  },
  {
   "cell_type": "code",
   "execution_count": 46,
   "id": "c4d61e6b",
   "metadata": {},
   "outputs": [
    {
     "name": "stdout",
     "output_type": "stream",
     "text": [
      "SVC CM: [[97 10]\n",
      " [19 28]]\n",
      "              precision    recall  f1-score   support\n",
      "\n",
      "           0       0.84      0.91      0.87       107\n",
      "           1       0.74      0.60      0.66        47\n",
      "\n",
      "    accuracy                           0.81       154\n",
      "   macro avg       0.79      0.75      0.76       154\n",
      "weighted avg       0.81      0.81      0.81       154\n",
      "\n"
     ]
    }
   ],
   "source": [
    "print('SVC CM:',confusion_matrix(y_test, Y_pred_svc))\n",
    "print(classification_report(y_test, Y_pred_svc))"
   ]
  },
  {
   "cell_type": "code",
   "execution_count": 47,
   "id": "c9f599fe",
   "metadata": {},
   "outputs": [
    {
     "data": {
      "text/plain": [
       "[Text(0.5, 1.0, 'Confusion Matrix of Support Vector Classification')]"
      ]
     },
     "execution_count": 47,
     "metadata": {},
     "output_type": "execute_result"
    },
    {
     "data": {
      "image/png": "[encoded data removed]",
      "text/plain": [
       "<Figure size 432x288 with 2 Axes>"
      ]
     },
     "metadata": {
      "needs_background": "light"
     },
     "output_type": "display_data"
    }
   ],
   "source": [
    "### visualisation of confusion matrix\n",
    "cm_matrix_svc = confusion_matrix(y_test, Y_pred_svc)\n",
    "sns.heatmap(cm_matrix_svc, annot=True).set(title = 'Confusion Matrix of Support Vector Classification')"
   ]
  },
  {
   "cell_type": "markdown",
   "id": "81d9d319",
   "metadata": {},
   "source": [
    "ROC and AUC for model evaluation:\n",
    "SVC does not easily conform to ROC evaluation. ROC curve requires probability estimates which one-class SVC doesn't try to produce"
   ]
  },
  {
   "cell_type": "markdown",
   "id": "bb9f62cc",
   "metadata": {},
   "source": [
    "# Naive Bayes "
   ]
  },
  {
   "cell_type": "code",
   "execution_count": 48,
   "id": "034abdd2",
   "metadata": {},
   "outputs": [
    {
     "data": {
      "text/plain": [
       "GaussianNB()"
      ]
     },
     "execution_count": 48,
     "metadata": {},
     "output_type": "execute_result"
    }
   ],
   "source": [
    "naive_bayes = GaussianNB()\n",
    "naive_bayes.fit(X_train, y_train)"
   ]
  },
  {
   "cell_type": "code",
   "execution_count": 49,
   "id": "4adcd0ad",
   "metadata": {},
   "outputs": [],
   "source": [
    "Y_pred_naive_bayes = naive_bayes.predict(X_test)"
   ]
  },
  {
   "cell_type": "code",
   "execution_count": 50,
   "id": "1476457a",
   "metadata": {},
   "outputs": [],
   "source": [
    "accuracy_naive_bayes = accuracy_score(y_test, Y_pred_naive_bayes)"
   ]
  },
  {
   "cell_type": "code",
   "execution_count": 51,
   "id": "94905587",
   "metadata": {},
   "outputs": [
    {
     "name": "stdout",
     "output_type": "stream",
     "text": [
      "Naive Bayes CM: [[90 17]\n",
      " [16 31]]\n",
      "              precision    recall  f1-score   support\n",
      "\n",
      "           0       0.85      0.84      0.85       107\n",
      "           1       0.65      0.66      0.65        47\n",
      "\n",
      "    accuracy                           0.79       154\n",
      "   macro avg       0.75      0.75      0.75       154\n",
      "weighted avg       0.79      0.79      0.79       154\n",
      "\n"
     ]
    }
   ],
   "source": [
    "### Confusion Matrix and Evaluation Scores\n",
    "print('Naive Bayes CM:',confusion_matrix(y_test, Y_pred_naive_bayes))\n",
    "print(classification_report(y_test, Y_pred_naive_bayes))\n"
   ]
  },
  {
   "cell_type": "code",
   "execution_count": 52,
   "id": "4f989f66",
   "metadata": {},
   "outputs": [
    {
     "data": {
      "text/plain": [
       "[Text(0.5, 1.0, 'Confusion Matrix of Naive Bayes')]"
      ]
     },
     "execution_count": 52,
     "metadata": {},
     "output_type": "execute_result"
    },
    {
     "data": {
      "image/png": "[encoded data removed]",
      "text/plain": [
       "<Figure size 432x288 with 2 Axes>"
      ]
     },
     "metadata": {
      "needs_background": "light"
     },
     "output_type": "display_data"
    }
   ],
   "source": [
    "### visualisation of confusion matrix\n",
    "cm_matrix_nb = confusion_matrix(y_test, Y_pred_naive_bayes)\n",
    "sns.heatmap(cm_matrix_nb, annot=True).set(title = 'Confusion Matrix of Naive Bayes')"
   ]
  },
  {
   "cell_type": "code",
   "execution_count": 45,
   "id": "192df23d",
   "metadata": {},
   "outputs": [],
   "source": [
    "### ROC and AUC for model evaluation\n",
    "y_pred_proba_naive_bayes= naive_bayes.predict_proba(X_test)[::,1]"
   ]
  },
  {
   "cell_type": "code",
   "execution_count": 46,
   "id": "36f60596",
   "metadata": {},
   "outputs": [],
   "source": [
    "false_positive_rate, true_positive_rate, _ = metrics.roc_curve(y_test, y_pred_proba_naive_bayes)"
   ]
  },
  {
   "cell_type": "code",
   "execution_count": 47,
   "id": "31dcc9c4",
   "metadata": {},
   "outputs": [],
   "source": [
    "auc= metrics.roc_auc_score(y_test, y_pred_proba_naive_bayes)"
   ]
  },
  {
   "cell_type": "code",
   "execution_count": 48,
   "id": "e6231da6",
   "metadata": {},
   "outputs": [
    {
     "data": {
      "text/plain": [
       "<matplotlib.legend.Legend at 0x254bfa3eeb0>"
      ]
     },
     "execution_count": 48,
     "metadata": {},
     "output_type": "execute_result"
    },
    {
     "data": {
      "image/png": "[encoded data removed]",
      "text/plain": [
       "<Figure size 432x288 with 1 Axes>"
      ]
     },
     "metadata": {
      "needs_background": "light"
     },
     "output_type": "display_data"
    }
   ],
   "source": [
    "plt.plot(false_positive_rate, true_positive_rate,label=\"AUC=\"+str(auc))\n",
    "plt.title('NB - ROC Curve')\n",
    "plt.ylabel('True Positive Rate')\n",
    "plt.xlabel('False Positive Rate')\n",
    "plt.legend(loc=4)"
   ]
  },
  {
   "cell_type": "markdown",
   "id": "f5795a66",
   "metadata": {},
   "source": [
    "# Decision Tree "
   ]
  },
  {
   "cell_type": "code",
   "execution_count": 53,
   "id": "c9768901",
   "metadata": {},
   "outputs": [
    {
     "data": {
      "text/plain": [
       "DecisionTreeClassifier(criterion='entropy', random_state=42)"
      ]
     },
     "execution_count": 53,
     "metadata": {},
     "output_type": "execute_result"
    }
   ],
   "source": [
    "decision_tree = DecisionTreeClassifier(criterion = 'entropy', random_state = 42)\n",
    "decision_tree.fit(X_train, y_train)"
   ]
  },
  {
   "cell_type": "code",
   "execution_count": 54,
   "id": "77f3beec",
   "metadata": {},
   "outputs": [],
   "source": [
    "Y_pred_decision_tree = decision_tree.predict(X_test)"
   ]
  },
  {
   "cell_type": "code",
   "execution_count": 55,
   "id": "f7573dea",
   "metadata": {},
   "outputs": [],
   "source": [
    "accuracy_decision_tree = accuracy_score(y_test, Y_pred_decision_tree)"
   ]
  },
  {
   "cell_type": "code",
   "execution_count": 56,
   "id": "d4fc51be",
   "metadata": {},
   "outputs": [
    {
     "name": "stdout",
     "output_type": "stream",
     "text": [
      "Decision Tree CM: [[79 28]\n",
      " [15 32]]\n",
      "              precision    recall  f1-score   support\n",
      "\n",
      "           0       0.84      0.74      0.79       107\n",
      "           1       0.53      0.68      0.60        47\n",
      "\n",
      "    accuracy                           0.72       154\n",
      "   macro avg       0.69      0.71      0.69       154\n",
      "weighted avg       0.75      0.72      0.73       154\n",
      "\n"
     ]
    }
   ],
   "source": [
    "### Confusion Matrix and Evaluation Scores\n",
    "print('Decision Tree CM:',confusion_matrix(y_test, Y_pred_decision_tree))\n",
    "print(classification_report(y_test, Y_pred_decision_tree))\n"
   ]
  },
  {
   "cell_type": "code",
   "execution_count": 57,
   "id": "2bdbdd24",
   "metadata": {},
   "outputs": [
    {
     "data": {
      "text/plain": [
       "[Text(0.5, 1.0, 'Confusion Matrix of Decision Tree')]"
      ]
     },
     "execution_count": 57,
     "metadata": {},
     "output_type": "execute_result"
    },
    {
     "data": {
      "image/png": "[encoded data removed]",
      "text/plain": [
       "<Figure size 432x288 with 2 Axes>"
      ]
     },
     "metadata": {
      "needs_background": "light"
     },
     "output_type": "display_data"
    }
   ],
   "source": [
    "### visualisation of confusion matrix\n",
    "cm_matrix_dt = confusion_matrix(y_test, Y_pred_decision_tree)\n",
    "sns.heatmap(cm_matrix_dt, annot=True).set(title = 'Confusion Matrix of Decision Tree')"
   ]
  },
  {
   "cell_type": "code",
   "execution_count": 50,
   "id": "7f8ad37f",
   "metadata": {},
   "outputs": [],
   "source": [
    "### ROC and AUC for model evaluation\n",
    "y_pred_proba_DT= decision_tree.predict_proba(X_test)[::,1]"
   ]
  },
  {
   "cell_type": "code",
   "execution_count": 51,
   "id": "885eafea",
   "metadata": {},
   "outputs": [],
   "source": [
    "false_positive_rate, true_positive_rate, _ = metrics.roc_curve(y_test, y_pred_proba_DT)"
   ]
  },
  {
   "cell_type": "code",
   "execution_count": 52,
   "id": "8b8db5f5",
   "metadata": {},
   "outputs": [],
   "source": [
    "auc= metrics.roc_auc_score(y_test, y_pred_proba_DT)"
   ]
  },
  {
   "cell_type": "code",
   "execution_count": 53,
   "id": "584e59f9",
   "metadata": {},
   "outputs": [
    {
     "data": {
      "text/plain": [
       "<matplotlib.legend.Legend at 0x254bfa774c0>"
      ]
     },
     "execution_count": 53,
     "metadata": {},
     "output_type": "execute_result"
    },
    {
     "data": {
      "image/png": "[encoded data removed]",
      "text/plain": [
       "<Figure size 432x288 with 1 Axes>"
      ]
     },
     "metadata": {
      "needs_background": "light"
     },
     "output_type": "display_data"
    }
   ],
   "source": [
    "plt.plot(false_positive_rate, true_positive_rate,label=\"AUC=\"+str(auc))\n",
    "plt.title('Decision Tree - ROC Curve')\n",
    "plt.ylabel('True Positive Rate')\n",
    "plt.xlabel('False Positive Rate')\n",
    "plt.legend(loc=4)"
   ]
  },
  {
   "cell_type": "markdown",
   "id": "d120d2d1",
   "metadata": {},
   "source": [
    "# Random Forest"
   ]
  },
  {
   "cell_type": "code",
   "execution_count": 58,
   "id": "f9e8634b",
   "metadata": {},
   "outputs": [
    {
     "data": {
      "text/plain": [
       "RandomForestClassifier(criterion='entropy', n_estimators=10, random_state=42)"
      ]
     },
     "execution_count": 58,
     "metadata": {},
     "output_type": "execute_result"
    }
   ],
   "source": [
    "random_forest = RandomForestClassifier(n_estimators = 10, criterion = 'entropy', random_state = 42)\n",
    "random_forest.fit(X_train, y_train)"
   ]
  },
  {
   "cell_type": "code",
   "execution_count": 59,
   "id": "990cfd53",
   "metadata": {},
   "outputs": [],
   "source": [
    "### making prediction\n",
    "y_pred_random_forest = random_forest.predict(X_test)"
   ]
  },
  {
   "cell_type": "code",
   "execution_count": 60,
   "id": "93bd41ee",
   "metadata": {},
   "outputs": [],
   "source": [
    "accuracy_random_forest = accuracy_score(y_test, y_pred_random_forest)"
   ]
  },
  {
   "cell_type": "code",
   "execution_count": 61,
   "id": "67ccf2c4",
   "metadata": {},
   "outputs": [
    {
     "name": "stdout",
     "output_type": "stream",
     "text": [
      "Random Forest CM: [[93 14]\n",
      " [22 25]]\n",
      "              precision    recall  f1-score   support\n",
      "\n",
      "           0       0.81      0.87      0.84       107\n",
      "           1       0.64      0.53      0.58        47\n",
      "\n",
      "    accuracy                           0.77       154\n",
      "   macro avg       0.72      0.70      0.71       154\n",
      "weighted avg       0.76      0.77      0.76       154\n",
      "\n"
     ]
    }
   ],
   "source": [
    "### Confusion Matrix and Evaluation Scores\n",
    "\n",
    "print('Random Forest CM:',confusion_matrix(y_test, y_pred_random_forest))\n",
    "print(classification_report(y_test, y_pred_random_forest))"
   ]
  },
  {
   "cell_type": "code",
   "execution_count": 63,
   "id": "550b1293",
   "metadata": {},
   "outputs": [
    {
     "data": {
      "text/plain": [
       "[Text(0.5, 1.0, 'Confusion Matrix of Random Forest')]"
      ]
     },
     "execution_count": 63,
     "metadata": {},
     "output_type": "execute_result"
    },
    {
     "data": {
      "image/png": "[encoded data removed]",
      "text/plain": [
       "<Figure size 432x288 with 2 Axes>"
      ]
     },
     "metadata": {
      "needs_background": "light"
     },
     "output_type": "display_data"
    }
   ],
   "source": [
    "### visualisation of confusion matrix\n",
    "cm_matrix_rf = confusion_matrix(y_test, y_pred_random_forest)\n",
    "sns.heatmap(cm_matrix_rf, annot = True).set(title = 'Confusion Matrix of Random Forest')"
   ]
  },
  {
   "cell_type": "code",
   "execution_count": 56,
   "id": "a895415e",
   "metadata": {},
   "outputs": [],
   "source": [
    "### ROC and AUC for model evaluation\n",
    "y_pred_proba_RF= random_forest.predict_proba(X_test)[::,1]"
   ]
  },
  {
   "cell_type": "code",
   "execution_count": 57,
   "id": "4ed05ff3",
   "metadata": {},
   "outputs": [],
   "source": [
    "false_positive_rate, true_positive_rate, _ = metrics.roc_curve(y_test, y_pred_proba_RF)"
   ]
  },
  {
   "cell_type": "code",
   "execution_count": 58,
   "id": "13b373a9",
   "metadata": {},
   "outputs": [],
   "source": [
    "auc= metrics.roc_auc_score(y_test, y_pred_proba_RF)"
   ]
  },
  {
   "cell_type": "code",
   "execution_count": 59,
   "id": "c9600e2a",
   "metadata": {},
   "outputs": [
    {
     "data": {
      "text/plain": [
       "<matplotlib.legend.Legend at 0x254bfaf6df0>"
      ]
     },
     "execution_count": 59,
     "metadata": {},
     "output_type": "execute_result"
    },
    {
     "data": {
      "image/png": "[encoded data removed]",
      "text/plain": [
       "<Figure size 432x288 with 1 Axes>"
      ]
     },
     "metadata": {
      "needs_background": "light"
     },
     "output_type": "display_data"
    }
   ],
   "source": [
    "plt.plot(false_positive_rate, true_positive_rate,label=\"AUC=\"+str(auc))\n",
    "plt.title('Random Forest - ROC Curve')\n",
    "plt.ylabel('True Positive Rate')\n",
    "plt.xlabel('False Positive Rate')\n",
    "plt.legend(loc=4)"
   ]
  },
  {
   "cell_type": "code",
   "execution_count": 42,
   "id": "5bf6b058",
   "metadata": {},
   "outputs": [
    {
     "name": "stdout",
     "output_type": "stream",
     "text": [
      "Logistic Regression: 0.818\n",
      "K Nearest Neighbors: 0.792\n",
      "Support Vector Classifier: 0.812\n",
      "Naive Bayes: 0.786\n",
      "Decision Tree: 0.721\n",
      "Random Forest: 0.766\n"
     ]
    }
   ],
   "source": [
    "### Summary of Accuracy Scores\n",
    "\n",
    "print(\"Logistic Regression: \" + str((accuracy_logistic_regression).round(3)))\n",
    "print(\"K Nearest Neighbors: \" + str((accuracy_knn).round(3)))\n",
    "print(\"Support Vector Classifier: \" + str((accuracy_svc).round(3)))\n",
    "print(\"Naive Bayes: \" + str((accuracy_naive_bayes).round(3)))\n",
    "print(\"Decision Tree: \" + str((accuracy_decision_tree).round(3)))\n",
    "print(\"Random Forest: \" + str((accuracy_random_forest).round(3)))\n"
   ]
  },
  {
   "cell_type": "markdown",
   "id": "4c5588f4",
   "metadata": {},
   "source": [
    "# Visualising Model Accuracy Scores"
   ]
  },
  {
   "cell_type": "code",
   "execution_count": 114,
   "id": "ba3d3840",
   "metadata": {},
   "outputs": [],
   "source": [
    "### Plotting training and test set accuracy scores\n",
    "\n",
    "n_groups = 6            ### number of groups to be plotted in the bar graph\n",
    "algorithms = ('Logistic Regression', 'K-Nearest Neighbour', 'SVC', 'Naive Bayes', 'Decision Tree', 'Random Forest')\n",
    "train_accuracy_scores = (accuracy_score(y_train, logistic_regression.predict(X_train))*100,\n",
    "                  accuracy_score(y_train, knn.predict(X_train))*100,\n",
    "                  accuracy_score(y_train, svc.predict(X_train))*100,\n",
    "                  accuracy_score(y_train, naive_bayes.predict(X_train))*100,\n",
    "                  accuracy_score(y_train, decision_tree.predict(X_train))*100,\n",
    "                  accuracy_score(y_train, random_forest.predict(X_train))*100)\n",
    "\n",
    "\n",
    "test_accuracy_scores = (accuracy_logistic_regression * 100,\n",
    "                        accuracy_knn * 100,\n",
    "                        accuracy_svc * 100,\n",
    "                        accuracy_naive_bayes * 100,\n",
    "                        accuracy_decision_tree * 100,\n",
    "                        accuracy_random_forest * 100)      ### *100 all accuracy scores to give them as percentage out of 100\n",
    "                        "
   ]
  },
  {
   "cell_type": "code",
   "execution_count": 80,
   "id": "81d26860",
   "metadata": {},
   "outputs": [
    {
     "data": {
      "image/png": "[encoded data removed]",
      "text/plain": [
       "<Figure size 1080x360 with 1 Axes>"
      ]
     },
     "metadata": {
      "needs_background": "light"
     },
     "output_type": "display_data"
    }
   ],
   "source": [
    "### Bar Plot of Train and test sets\n",
    "\n",
    "### setting the parameters for the bar graph\n",
    "fig, ax = plt.subplots(figsize=(15, 5))\n",
    "index = np.arange(n_groups)\n",
    "bar_width = 0.3\n",
    "opacity = 0.8\n",
    "rects1 = plt.bar(index, train_accuracy_scores, bar_width, alpha = opacity, color='Red', label='Train')\n",
    "rects2 = plt.bar(index + bar_width, test_accuracy_scores, bar_width, alpha = opacity, color='Blue', label='Test')\n",
    "\n",
    "\n",
    "\n",
    "plt.xlabel('Algorithm') \n",
    "plt.ylabel('Accuracy (%)') \n",
    "plt.ylim(0, 115)\n",
    "plt.title('Comparison of Algorithm Accuracies')\n",
    "plt.xticks(index + bar_width * 0.5, algorithms) \n",
    "plt.legend(loc = 'upper right')\n",
    "\n",
    "### bar parameters settings\n",
    "for index, data in enumerate(train_accuracy_scores):\n",
    "    plt.text(x = index - 0.035, y = data + 1, s = round(data, 2), fontdict = dict(fontsize = 12))\n",
    "for index, data in enumerate(test_accuracy_scores):\n",
    "    plt.text(x = index + 0.25, y = data + 1, s = round(data, 2), fontdict = dict(fontsize = 12))\n",
    "\n",
    "plt.show()"
   ]
  },
  {
   "cell_type": "markdown",
   "id": "c2c93076",
   "metadata": {},
   "source": [
    "Based off the 6 most common regression models, Logistic Regression has given the highest accuracy score of 81.81.\n",
    "\n",
    "Next lets try and optimise if possible each model to see if this increases the evaluation scores"
   ]
  },
  {
   "cell_type": "markdown",
   "id": "1a6b07fa",
   "metadata": {},
   "source": [
    "# Logistic Regression Optimisation"
   ]
  },
  {
   "cell_type": "markdown",
   "id": "29c1a8b3",
   "metadata": {},
   "source": [
    "Logistic Regression has no obvious parameters available for optimisation. Changing the random state is not considered parameter\n",
    "optimisation as in this case random state merely shuffles the data and does not govern the models behaviour"
   ]
  },
  {
   "cell_type": "markdown",
   "id": "a8af7eaf",
   "metadata": {},
   "source": [
    "# KNN Optimisation\n"
   ]
  },
  {
   "cell_type": "code",
   "execution_count": 115,
   "id": "3e1bb7d0",
   "metadata": {},
   "outputs": [
    {
     "name": "stderr",
     "output_type": "stream",
     "text": [
      "C:\\Users\\carlp\\AppData\\Local\\Temp\\ipykernel_10640\\2348486486.py:5: FutureWarning: The default dtype for empty Series will be 'object' instead of 'float64' in a future version. Specify a dtype explicitly to silence this warning.\n",
      "  acc = pd.Series()\n",
      "C:\\Users\\carlp\\AppData\\Local\\Temp\\ipykernel_10640\\2348486486.py:13: FutureWarning: The series.append method is deprecated and will be removed from pandas in a future version. Use pandas.concat instead.\n",
      "  acc = acc.append(pd.Series(metrics.accuracy_score(prediction, y_test)))\n",
      "C:\\Users\\carlp\\AppData\\Local\\Temp\\ipykernel_10640\\2348486486.py:13: FutureWarning: The series.append method is deprecated and will be removed from pandas in a future version. Use pandas.concat instead.\n",
      "  acc = acc.append(pd.Series(metrics.accuracy_score(prediction, y_test)))\n",
      "C:\\Users\\carlp\\AppData\\Local\\Temp\\ipykernel_10640\\2348486486.py:13: FutureWarning: The series.append method is deprecated and will be removed from pandas in a future version. Use pandas.concat instead.\n",
      "  acc = acc.append(pd.Series(metrics.accuracy_score(prediction, y_test)))\n",
      "C:\\Users\\carlp\\AppData\\Local\\Temp\\ipykernel_10640\\2348486486.py:13: FutureWarning: The series.append method is deprecated and will be removed from pandas in a future version. Use pandas.concat instead.\n",
      "  acc = acc.append(pd.Series(metrics.accuracy_score(prediction, y_test)))\n",
      "C:\\Users\\carlp\\AppData\\Local\\Temp\\ipykernel_10640\\2348486486.py:13: FutureWarning: The series.append method is deprecated and will be removed from pandas in a future version. Use pandas.concat instead.\n",
      "  acc = acc.append(pd.Series(metrics.accuracy_score(prediction, y_test)))\n",
      "C:\\Users\\carlp\\AppData\\Local\\Temp\\ipykernel_10640\\2348486486.py:13: FutureWarning: The series.append method is deprecated and will be removed from pandas in a future version. Use pandas.concat instead.\n",
      "  acc = acc.append(pd.Series(metrics.accuracy_score(prediction, y_test)))\n",
      "C:\\Users\\carlp\\AppData\\Local\\Temp\\ipykernel_10640\\2348486486.py:13: FutureWarning: The series.append method is deprecated and will be removed from pandas in a future version. Use pandas.concat instead.\n",
      "  acc = acc.append(pd.Series(metrics.accuracy_score(prediction, y_test)))\n",
      "C:\\Users\\carlp\\AppData\\Local\\Temp\\ipykernel_10640\\2348486486.py:13: FutureWarning: The series.append method is deprecated and will be removed from pandas in a future version. Use pandas.concat instead.\n",
      "  acc = acc.append(pd.Series(metrics.accuracy_score(prediction, y_test)))\n",
      "C:\\Users\\carlp\\AppData\\Local\\Temp\\ipykernel_10640\\2348486486.py:13: FutureWarning: The series.append method is deprecated and will be removed from pandas in a future version. Use pandas.concat instead.\n",
      "  acc = acc.append(pd.Series(metrics.accuracy_score(prediction, y_test)))\n",
      "C:\\Users\\carlp\\AppData\\Local\\Temp\\ipykernel_10640\\2348486486.py:13: FutureWarning: The series.append method is deprecated and will be removed from pandas in a future version. Use pandas.concat instead.\n",
      "  acc = acc.append(pd.Series(metrics.accuracy_score(prediction, y_test)))\n",
      "C:\\Users\\carlp\\AppData\\Local\\Temp\\ipykernel_10640\\2348486486.py:13: FutureWarning: The series.append method is deprecated and will be removed from pandas in a future version. Use pandas.concat instead.\n",
      "  acc = acc.append(pd.Series(metrics.accuracy_score(prediction, y_test)))\n",
      "C:\\Users\\carlp\\AppData\\Local\\Temp\\ipykernel_10640\\2348486486.py:13: FutureWarning: The series.append method is deprecated and will be removed from pandas in a future version. Use pandas.concat instead.\n",
      "  acc = acc.append(pd.Series(metrics.accuracy_score(prediction, y_test)))\n",
      "C:\\Users\\carlp\\AppData\\Local\\Temp\\ipykernel_10640\\2348486486.py:13: FutureWarning: The series.append method is deprecated and will be removed from pandas in a future version. Use pandas.concat instead.\n",
      "  acc = acc.append(pd.Series(metrics.accuracy_score(prediction, y_test)))\n",
      "C:\\Users\\carlp\\AppData\\Local\\Temp\\ipykernel_10640\\2348486486.py:13: FutureWarning: The series.append method is deprecated and will be removed from pandas in a future version. Use pandas.concat instead.\n",
      "  acc = acc.append(pd.Series(metrics.accuracy_score(prediction, y_test)))\n",
      "C:\\Users\\carlp\\AppData\\Local\\Temp\\ipykernel_10640\\2348486486.py:13: FutureWarning: The series.append method is deprecated and will be removed from pandas in a future version. Use pandas.concat instead.\n",
      "  acc = acc.append(pd.Series(metrics.accuracy_score(prediction, y_test)))\n",
      "C:\\Users\\carlp\\AppData\\Local\\Temp\\ipykernel_10640\\2348486486.py:13: FutureWarning: The series.append method is deprecated and will be removed from pandas in a future version. Use pandas.concat instead.\n",
      "  acc = acc.append(pd.Series(metrics.accuracy_score(prediction, y_test)))\n",
      "C:\\Users\\carlp\\AppData\\Local\\Temp\\ipykernel_10640\\2348486486.py:13: FutureWarning: The series.append method is deprecated and will be removed from pandas in a future version. Use pandas.concat instead.\n",
      "  acc = acc.append(pd.Series(metrics.accuracy_score(prediction, y_test)))\n",
      "C:\\Users\\carlp\\AppData\\Local\\Temp\\ipykernel_10640\\2348486486.py:13: FutureWarning: The series.append method is deprecated and will be removed from pandas in a future version. Use pandas.concat instead.\n",
      "  acc = acc.append(pd.Series(metrics.accuracy_score(prediction, y_test)))\n",
      "C:\\Users\\carlp\\AppData\\Local\\Temp\\ipykernel_10640\\2348486486.py:13: FutureWarning: The series.append method is deprecated and will be removed from pandas in a future version. Use pandas.concat instead.\n",
      "  acc = acc.append(pd.Series(metrics.accuracy_score(prediction, y_test)))\n",
      "C:\\Users\\carlp\\AppData\\Local\\Temp\\ipykernel_10640\\2348486486.py:13: FutureWarning: The series.append method is deprecated and will be removed from pandas in a future version. Use pandas.concat instead.\n",
      "  acc = acc.append(pd.Series(metrics.accuracy_score(prediction, y_test)))\n",
      "C:\\Users\\carlp\\AppData\\Local\\Temp\\ipykernel_10640\\2348486486.py:13: FutureWarning: The series.append method is deprecated and will be removed from pandas in a future version. Use pandas.concat instead.\n",
      "  acc = acc.append(pd.Series(metrics.accuracy_score(prediction, y_test)))\n",
      "C:\\Users\\carlp\\AppData\\Local\\Temp\\ipykernel_10640\\2348486486.py:13: FutureWarning: The series.append method is deprecated and will be removed from pandas in a future version. Use pandas.concat instead.\n",
      "  acc = acc.append(pd.Series(metrics.accuracy_score(prediction, y_test)))\n",
      "C:\\Users\\carlp\\AppData\\Local\\Temp\\ipykernel_10640\\2348486486.py:13: FutureWarning: The series.append method is deprecated and will be removed from pandas in a future version. Use pandas.concat instead.\n",
      "  acc = acc.append(pd.Series(metrics.accuracy_score(prediction, y_test)))\n",
      "C:\\Users\\carlp\\AppData\\Local\\Temp\\ipykernel_10640\\2348486486.py:13: FutureWarning: The series.append method is deprecated and will be removed from pandas in a future version. Use pandas.concat instead.\n",
      "  acc = acc.append(pd.Series(metrics.accuracy_score(prediction, y_test)))\n",
      "C:\\Users\\carlp\\AppData\\Local\\Temp\\ipykernel_10640\\2348486486.py:13: FutureWarning: The series.append method is deprecated and will be removed from pandas in a future version. Use pandas.concat instead.\n",
      "  acc = acc.append(pd.Series(metrics.accuracy_score(prediction, y_test)))\n",
      "C:\\Users\\carlp\\AppData\\Local\\Temp\\ipykernel_10640\\2348486486.py:13: FutureWarning: The series.append method is deprecated and will be removed from pandas in a future version. Use pandas.concat instead.\n",
      "  acc = acc.append(pd.Series(metrics.accuracy_score(prediction, y_test)))\n",
      "C:\\Users\\carlp\\AppData\\Local\\Temp\\ipykernel_10640\\2348486486.py:13: FutureWarning: The series.append method is deprecated and will be removed from pandas in a future version. Use pandas.concat instead.\n",
      "  acc = acc.append(pd.Series(metrics.accuracy_score(prediction, y_test)))\n",
      "C:\\Users\\carlp\\AppData\\Local\\Temp\\ipykernel_10640\\2348486486.py:13: FutureWarning: The series.append method is deprecated and will be removed from pandas in a future version. Use pandas.concat instead.\n",
      "  acc = acc.append(pd.Series(metrics.accuracy_score(prediction, y_test)))\n",
      "C:\\Users\\carlp\\AppData\\Local\\Temp\\ipykernel_10640\\2348486486.py:13: FutureWarning: The series.append method is deprecated and will be removed from pandas in a future version. Use pandas.concat instead.\n",
      "  acc = acc.append(pd.Series(metrics.accuracy_score(prediction, y_test)))\n",
      "C:\\Users\\carlp\\AppData\\Local\\Temp\\ipykernel_10640\\2348486486.py:13: FutureWarning: The series.append method is deprecated and will be removed from pandas in a future version. Use pandas.concat instead.\n",
      "  acc = acc.append(pd.Series(metrics.accuracy_score(prediction, y_test)))\n",
      "C:\\Users\\carlp\\AppData\\Local\\Temp\\ipykernel_10640\\2348486486.py:13: FutureWarning: The series.append method is deprecated and will be removed from pandas in a future version. Use pandas.concat instead.\n",
      "  acc = acc.append(pd.Series(metrics.accuracy_score(prediction, y_test)))\n",
      "C:\\Users\\carlp\\AppData\\Local\\Temp\\ipykernel_10640\\2348486486.py:13: FutureWarning: The series.append method is deprecated and will be removed from pandas in a future version. Use pandas.concat instead.\n",
      "  acc = acc.append(pd.Series(metrics.accuracy_score(prediction, y_test)))\n"
     ]
    },
    {
     "name": "stderr",
     "output_type": "stream",
     "text": [
      "C:\\Users\\carlp\\AppData\\Local\\Temp\\ipykernel_10640\\2348486486.py:13: FutureWarning: The series.append method is deprecated and will be removed from pandas in a future version. Use pandas.concat instead.\n",
      "  acc = acc.append(pd.Series(metrics.accuracy_score(prediction, y_test)))\n",
      "C:\\Users\\carlp\\AppData\\Local\\Temp\\ipykernel_10640\\2348486486.py:13: FutureWarning: The series.append method is deprecated and will be removed from pandas in a future version. Use pandas.concat instead.\n",
      "  acc = acc.append(pd.Series(metrics.accuracy_score(prediction, y_test)))\n",
      "C:\\Users\\carlp\\AppData\\Local\\Temp\\ipykernel_10640\\2348486486.py:13: FutureWarning: The series.append method is deprecated and will be removed from pandas in a future version. Use pandas.concat instead.\n",
      "  acc = acc.append(pd.Series(metrics.accuracy_score(prediction, y_test)))\n",
      "C:\\Users\\carlp\\AppData\\Local\\Temp\\ipykernel_10640\\2348486486.py:13: FutureWarning: The series.append method is deprecated and will be removed from pandas in a future version. Use pandas.concat instead.\n",
      "  acc = acc.append(pd.Series(metrics.accuracy_score(prediction, y_test)))\n",
      "C:\\Users\\carlp\\AppData\\Local\\Temp\\ipykernel_10640\\2348486486.py:13: FutureWarning: The series.append method is deprecated and will be removed from pandas in a future version. Use pandas.concat instead.\n",
      "  acc = acc.append(pd.Series(metrics.accuracy_score(prediction, y_test)))\n",
      "C:\\Users\\carlp\\AppData\\Local\\Temp\\ipykernel_10640\\2348486486.py:13: FutureWarning: The series.append method is deprecated and will be removed from pandas in a future version. Use pandas.concat instead.\n",
      "  acc = acc.append(pd.Series(metrics.accuracy_score(prediction, y_test)))\n",
      "C:\\Users\\carlp\\AppData\\Local\\Temp\\ipykernel_10640\\2348486486.py:13: FutureWarning: The series.append method is deprecated and will be removed from pandas in a future version. Use pandas.concat instead.\n",
      "  acc = acc.append(pd.Series(metrics.accuracy_score(prediction, y_test)))\n"
     ]
    },
    {
     "data": {
      "image/png": "[encoded data removed]",
      "text/plain": [
       "<Figure size 2160x720 with 1 Axes>"
      ]
     },
     "metadata": {
      "needs_background": "light"
     },
     "output_type": "display_data"
    },
    {
     "name": "stdout",
     "output_type": "stream",
     "text": [
      "Highest value:  0.838\n"
     ]
    }
   ],
   "source": [
    "### Plotting a graph for finding the optimal number of nearest neighbors \n",
    "\n",
    "\n",
    "X_axis = list(range(1, 40))\n",
    "acc = pd.Series()\n",
    "x = range(1, 40)\n",
    "\n",
    "### selecting the range then iterating the number of neighbors into the model\n",
    "for i in list(range(1, 40)):\n",
    "    knn_model = KNeighborsClassifier(n_neighbors = i) \n",
    "    knn_model.fit(X_train, y_train)\n",
    "    prediction = knn_model.predict(X_test)\n",
    "    acc = acc.append(pd.Series(metrics.accuracy_score(prediction, y_test)))\n",
    "\n",
    "### settings for the line plot\n",
    "fig18, ax18 = plt.subplots(figsize=(30,10))\n",
    "plt.plot(X_axis, acc)\n",
    "plt.xticks(x)\n",
    "plt.title(\"Finding best value for number of neighbors for KNN\")\n",
    "plt.xlabel(\"Number of Neighbors\")\n",
    "plt.ylabel(\"Accuracy\")\n",
    "plt.grid()\n",
    "plt.show()\n",
    "print('Highest value: ', (acc.values.max().round(3)))"
   ]
  },
  {
   "cell_type": "markdown",
   "id": "ecf8c4af",
   "metadata": {},
   "source": [
    "As seen in the graph, the optimum number of nearest neighbors is 33 producing an accuracy score of 0.838 which is\n",
    "an improvement on the previous score of 0.792"
   ]
  },
  {
   "cell_type": "code",
   "execution_count": 65,
   "id": "0e267208",
   "metadata": {},
   "outputs": [
    {
     "data": {
      "text/plain": [
       "KNeighborsClassifier(n_neighbors=33)"
      ]
     },
     "execution_count": 65,
     "metadata": {},
     "output_type": "execute_result"
    }
   ],
   "source": [
    "### applying optimised number of neighbors\n",
    "knn_2 = KNeighborsClassifier(n_neighbors = 33, metric = 'minkowski', p = 2)\n",
    "knn_2.fit(X_train, y_train)"
   ]
  },
  {
   "cell_type": "code",
   "execution_count": 66,
   "id": "c49560f1",
   "metadata": {},
   "outputs": [],
   "source": [
    "### making a prediction using the trained model\n",
    "Y_pred_knn_2 = knn_2.predict(X_test)"
   ]
  },
  {
   "cell_type": "code",
   "execution_count": 67,
   "id": "40a376d8",
   "metadata": {},
   "outputs": [],
   "source": [
    "accuracy_knn_2 = accuracy_score(y_test, Y_pred_knn_2)"
   ]
  },
  {
   "cell_type": "code",
   "execution_count": 68,
   "id": "f14b60fd",
   "metadata": {},
   "outputs": [
    {
     "name": "stdout",
     "output_type": "stream",
     "text": [
      "KNN CM: [[96 11]\n",
      " [14 33]]\n",
      "              precision    recall  f1-score   support\n",
      "\n",
      "           0       0.87      0.90      0.88       107\n",
      "           1       0.75      0.70      0.73        47\n",
      "\n",
      "    accuracy                           0.84       154\n",
      "   macro avg       0.81      0.80      0.81       154\n",
      "weighted avg       0.84      0.84      0.84       154\n",
      "\n"
     ]
    }
   ],
   "source": [
    "print('KNN CM:',confusion_matrix(y_test, Y_pred_knn_2))\n",
    "print(classification_report(y_test, Y_pred_knn_2))"
   ]
  },
  {
   "cell_type": "code",
   "execution_count": 69,
   "id": "c67eb61d",
   "metadata": {},
   "outputs": [
    {
     "data": {
      "text/plain": [
       "[Text(0.5, 1.0, 'Confusion Matrix of KNN- Optimised')]"
      ]
     },
     "execution_count": 69,
     "metadata": {},
     "output_type": "execute_result"
    },
    {
     "data": {
      "image/png": "[encoded data removed]",
      "text/plain": [
       "<Figure size 432x288 with 2 Axes>"
      ]
     },
     "metadata": {
      "needs_background": "light"
     },
     "output_type": "display_data"
    }
   ],
   "source": [
    "### visualisation of confusion matrix\n",
    "cm_matrix_knn_2 = confusion_matrix(y_test, Y_pred_knn_2)\n",
    "sns.heatmap(cm_matrix_knn_2, annot=True).set(title = 'Confusion Matrix of KNN- Optimised')"
   ]
  },
  {
   "cell_type": "markdown",
   "id": "6e65711d",
   "metadata": {},
   "source": []
  },
  {
   "cell_type": "markdown",
   "id": "5b17a488",
   "metadata": {},
   "source": [
    "# Random Forest Optimisation"
   ]
  },
  {
   "cell_type": "code",
   "execution_count": 92,
   "id": "29162428",
   "metadata": {},
   "outputs": [
    {
     "name": "stdout",
     "output_type": "stream",
     "text": [
      "Parameters currently in use:\n",
      "\n",
      "{'bootstrap': True,\n",
      " 'ccp_alpha': 0.0,\n",
      " 'criterion': 'squared_error',\n",
      " 'max_depth': None,\n",
      " 'max_features': 'auto',\n",
      " 'max_leaf_nodes': None,\n",
      " 'max_samples': None,\n",
      " 'min_impurity_decrease': 0.0,\n",
      " 'min_samples_leaf': 1,\n",
      " 'min_samples_split': 2,\n",
      " 'min_weight_fraction_leaf': 0.0,\n",
      " 'n_estimators': 100,\n",
      " 'n_jobs': None,\n",
      " 'oob_score': False,\n",
      " 'random_state': 42,\n",
      " 'verbose': 0,\n",
      " 'warm_start': False}\n"
     ]
    }
   ],
   "source": [
    "rf = RandomForestRegressor(random_state = 42)\n",
    "\n",
    "# Look at parameters used by our current forest\n",
    "print('Parameters currently in use:\\n')\n",
    "pprint(rf.get_params())"
   ]
  },
  {
   "cell_type": "code",
   "execution_count": 93,
   "id": "7d971905",
   "metadata": {},
   "outputs": [
    {
     "name": "stdout",
     "output_type": "stream",
     "text": [
      "{'bootstrap': [True, False],\n",
      " 'max_depth': [10, 20, 30, 40, 50, 60, 70, 80, 90, 100, 110, None],\n",
      " 'max_features': ['auto', 'sqrt'],\n",
      " 'min_samples_leaf': [1, 2, 5],\n",
      " 'min_samples_split': [2, 5, 10],\n",
      " 'n_estimators': [200, 400, 600, 800, 1000, 1200, 1400, 1600, 1800, 2000]}\n"
     ]
    }
   ],
   "source": [
    "### Number of trees in random forest\n",
    "n_estimators = [int(x) for x in np.linspace(start = 200, stop = 2000, num = 10)]\n",
    "\n",
    "### Number of features to consider at every split\n",
    "max_features = ['auto', 'sqrt']      ### default is auto so I included sqrt to give alos as an option\n",
    "\n",
    "### Maximum number of levels in tree\n",
    "max_depth = [int(x) for x in np.linspace(10, 110, num = 11)]\n",
    "max_depth.append(None)\n",
    "\n",
    "### Minimum number of samples required to split a node\n",
    "min_samples_split = [2, 5, 10]      ### I expanded past the default number of 2\n",
    "\n",
    "### Minimum number of samples required at each leaf node\n",
    "min_samples_leaf = [1, 2, 5]        ### I expanded past the default number of 1\n",
    "\n",
    "### Method of selecting samples for training each tree\n",
    "bootstrap = [True, False]\n",
    "\n",
    "### Create the random grid\n",
    "random_grid = {'n_estimators': n_estimators,\n",
    "               'max_features': max_features,\n",
    "               'max_depth': max_depth,\n",
    "               'min_samples_split': min_samples_split,\n",
    "               'min_samples_leaf': min_samples_leaf,\n",
    "               'bootstrap': bootstrap}\n",
    "pprint(random_grid)"
   ]
  },
  {
   "cell_type": "code",
   "execution_count": 94,
   "id": "4cce972a",
   "metadata": {},
   "outputs": [
    {
     "name": "stdout",
     "output_type": "stream",
     "text": [
      "Fitting 3 folds for each of 100 candidates, totalling 300 fits\n"
     ]
    },
    {
     "data": {
      "text/plain": [
       "RandomizedSearchCV(cv=3, estimator=RandomForestRegressor(), n_iter=100,\n",
       "                   n_jobs=-1,\n",
       "                   param_distributions={'bootstrap': [True, False],\n",
       "                                        'max_depth': [10, 20, 30, 40, 50, 60,\n",
       "                                                      70, 80, 90, 100, 110,\n",
       "                                                      None],\n",
       "                                        'max_features': ['auto', 'sqrt'],\n",
       "                                        'min_samples_leaf': [1, 2, 5],\n",
       "                                        'min_samples_split': [2, 5, 10],\n",
       "                                        'n_estimators': [200, 400, 600, 800,\n",
       "                                                         1000, 1200, 1400, 1600,\n",
       "                                                         1800, 2000]},\n",
       "                   random_state=42, verbose=2)"
      ]
     },
     "execution_count": 94,
     "metadata": {},
     "output_type": "execute_result"
    }
   ],
   "source": [
    "### Using the random grid to search for best parameters\n",
    "\n",
    "### The base model to tune the parameters\n",
    "rf = RandomForestRegressor()\n",
    "\n",
    "### Random search of parameters, using 3 fold cross validation, \n",
    "### Search across 100 different combinations, and use all available cores\n",
    "rf_random = RandomizedSearchCV(estimator = rf, param_distributions = random_grid, n_iter = 100, \n",
    "                               cv = 3, verbose=2, random_state=42, n_jobs = -1)\n",
    "\n",
    "### Fit the random search model\n",
    "rf_random.fit(X_train, y_train)"
   ]
  },
  {
   "cell_type": "code",
   "execution_count": 95,
   "id": "d00637d0",
   "metadata": {},
   "outputs": [
    {
     "data": {
      "text/plain": [
       "{'n_estimators': 1000,\n",
       " 'min_samples_split': 10,\n",
       " 'min_samples_leaf': 2,\n",
       " 'max_features': 'sqrt',\n",
       " 'max_depth': 10,\n",
       " 'bootstrap': True}"
      ]
     },
     "execution_count": 95,
     "metadata": {},
     "output_type": "execute_result"
    }
   ],
   "source": [
    "### return the optimum parameters for the Random Forest model\n",
    "rf_random.best_params_"
   ]
  },
  {
   "cell_type": "code",
   "execution_count": 96,
   "id": "56e6a9f6",
   "metadata": {},
   "outputs": [],
   "source": [
    "rf_classifier = GradientBoostingClassifier()"
   ]
  },
  {
   "cell_type": "code",
   "execution_count": 97,
   "id": "17827052",
   "metadata": {},
   "outputs": [],
   "source": [
    "### using optimal parameters from best_params\n",
    "rf_classifier = GradientBoostingClassifier(n_estimators = 1600, min_samples_split = 2, min_samples_leaf = 5, \n",
    "                                        max_features = 'sqrt', max_depth = 10)\n"
   ]
  },
  {
   "cell_type": "code",
   "execution_count": 99,
   "id": "829bf75f",
   "metadata": {},
   "outputs": [
    {
     "name": "stdout",
     "output_type": "stream",
     "text": [
      "[0.938 0.875 0.75  0.562 0.667 0.8   0.733 0.867 0.667 0.8  ]\n",
      "0.766\n"
     ]
    }
   ],
   "source": [
    "### Print accuracy score for 10 combinations of parameters \n",
    "RF_accuracy_2 = cross_val_score(rf_classifier, X_test, y_test.ravel(), cv=10)  \n",
    "print((RF_accuracy_2.round(3)))\n",
    "\n",
    "### Printing the mean of the 10 scores\n",
    "print((RF_accuracy_2.mean().round(3)))"
   ]
  },
  {
   "cell_type": "markdown",
   "id": "4968a7c7",
   "metadata": {},
   "source": [
    "Minor improvement in accuracy score for Random Forest from 0.766 to 0.785 using optimised parameters"
   ]
  },
  {
   "cell_type": "markdown",
   "id": "6a8dc626",
   "metadata": {},
   "source": [
    "# SVC Optimisation"
   ]
  },
  {
   "cell_type": "code",
   "execution_count": 81,
   "id": "319912df",
   "metadata": {},
   "outputs": [],
   "source": [
    "param_grid = {'C': [0.1, 1, 10, 100], 'gamma': [1, 0.1, 0.01, 0.001], 'kernel': ['linear']}\n",
    "SVM_Model = SVC(gamma = 'auto')\n"
   ]
  },
  {
   "cell_type": "code",
   "execution_count": 82,
   "id": "fb149314",
   "metadata": {},
   "outputs": [],
   "source": [
    "### Using RandomisedSearchCV to identify best parameters\n",
    "SVC_grid = RandomizedSearchCV(estimator = SVM_Model, param_distributions = param_grid, cv = 3, verbose = 2, n_jobs = 4)\n",
    "                                                                 ### cv = cross validation number, 5 is default usually\n",
    "                                                                                     "
   ]
  },
  {
   "cell_type": "code",
   "execution_count": 83,
   "id": "ecec9181",
   "metadata": {},
   "outputs": [
    {
     "name": "stdout",
     "output_type": "stream",
     "text": [
      "Fitting 3 folds for each of 10 candidates, totalling 30 fits\n"
     ]
    },
    {
     "data": {
      "text/plain": [
       "RandomizedSearchCV(cv=3, estimator=SVC(gamma='auto'), n_jobs=4,\n",
       "                   param_distributions={'C': [0.1, 1, 10, 100],\n",
       "                                        'gamma': [1, 0.1, 0.01, 0.001],\n",
       "                                        'kernel': ['linear']},\n",
       "                   verbose=2)"
      ]
     },
     "execution_count": 83,
     "metadata": {},
     "output_type": "execute_result"
    }
   ],
   "source": [
    "### fitting the model to the training set\n",
    "SVC_grid.fit(X_train, y_train)"
   ]
  },
  {
   "cell_type": "code",
   "execution_count": 84,
   "id": "48b4fe2d",
   "metadata": {},
   "outputs": [
    {
     "data": {
      "text/plain": [
       "{'kernel': 'linear', 'gamma': 0.01, 'C': 10}"
      ]
     },
     "execution_count": 84,
     "metadata": {},
     "output_type": "execute_result"
    }
   ],
   "source": [
    "### extracting the best parameters\n",
    "SVC_grid.best_params_"
   ]
  },
  {
   "cell_type": "code",
   "execution_count": 85,
   "id": "d85a9a29",
   "metadata": {},
   "outputs": [
    {
     "data": {
      "text/plain": [
       "SVC(C=10, gamma=0.01, kernel='linear')"
      ]
     },
     "execution_count": 85,
     "metadata": {},
     "output_type": "execute_result"
    }
   ],
   "source": [
    "SVC_grid.best_estimator_"
   ]
  },
  {
   "cell_type": "code",
   "execution_count": 86,
   "id": "548ea284",
   "metadata": {},
   "outputs": [
    {
     "name": "stdout",
     "output_type": "stream",
     "text": [
      "0.760586319218241\n"
     ]
    }
   ],
   "source": [
    "print(SVC_grid.score(X_train, y_train))"
   ]
  },
  {
   "cell_type": "code",
   "execution_count": 88,
   "id": "e3d56b3e",
   "metadata": {},
   "outputs": [
    {
     "name": "stdout",
     "output_type": "stream",
     "text": [
      "0.8116883116883117\n"
     ]
    }
   ],
   "source": [
    "### print accuracy score of SVC with best parameters\n",
    "SVC_accuracy_2 = SVC_grid.score(X_test, y_test)\n",
    "print(SVC_accuracy_2)"
   ]
  },
  {
   "cell_type": "markdown",
   "id": "e03b6848",
   "metadata": {},
   "source": [
    "The optimised model produced an accuracy score of 0.812 (rounded to two decimel places), which is no improvement on the\n",
    "default parameters for the model."
   ]
  },
  {
   "cell_type": "markdown",
   "id": "4f67b3dc",
   "metadata": {},
   "source": [
    "# Decision Tree Optimisation"
   ]
  },
  {
   "cell_type": "code",
   "execution_count": 106,
   "id": "4c134f1a",
   "metadata": {},
   "outputs": [
    {
     "data": {
      "text/plain": [
       "20"
      ]
     },
     "execution_count": 106,
     "metadata": {},
     "output_type": "execute_result"
    }
   ],
   "source": [
    "### identifying the max depth for the decision tree\n",
    "decision_tree.tree_.max_depth"
   ]
  },
  {
   "cell_type": "code",
   "execution_count": 112,
   "id": "2044424e",
   "metadata": {},
   "outputs": [
    {
     "name": "stdout",
     "output_type": "stream",
     "text": [
      "Training Set Accuracy for max_depth 1 is: 0.7214983713355049\n",
      "Test Set Accuracy for max_depth 1 is: 0.7207792207792207\n",
      " \n",
      "Training Set Accuracy for max_depth 2 is: 0.7638436482084691\n",
      "Test Set Accuracy for max_depth 2 is: 0.7662337662337663\n",
      " \n",
      "Training Set Accuracy for max_depth 3 is: 0.7638436482084691\n",
      "Test Set Accuracy for max_depth 3 is: 0.7662337662337663\n",
      " \n",
      "Training Set Accuracy for max_depth 4 is: 0.7899022801302932\n",
      "Test Set Accuracy for max_depth 4 is: 0.7727272727272727\n",
      " \n",
      "Training Set Accuracy for max_depth 5 is: 0.8257328990228013\n",
      "Test Set Accuracy for max_depth 5 is: 0.6948051948051948\n",
      " \n",
      "Training Set Accuracy for max_depth 6 is: 0.8550488599348535\n",
      "Test Set Accuracy for max_depth 6 is: 0.7402597402597403\n",
      " \n",
      "Training Set Accuracy for max_depth 7 is: 0.8973941368078175\n",
      "Test Set Accuracy for max_depth 7 is: 0.7467532467532467\n",
      " \n",
      "Training Set Accuracy for max_depth 8 is: 0.9234527687296417\n",
      "Test Set Accuracy for max_depth 8 is: 0.7337662337662337\n",
      " \n",
      "Training Set Accuracy for max_depth 9 is: 0.9543973941368078\n",
      "Test Set Accuracy for max_depth 9 is: 0.7467532467532467\n",
      " \n",
      "Training Set Accuracy for max_depth 10 is: 0.9739413680781759\n",
      "Test Set Accuracy for max_depth 10 is: 0.7207792207792207\n",
      " \n",
      "Training Set Accuracy for max_depth 11 is: 0.9869706840390879\n",
      "Test Set Accuracy for max_depth 11 is: 0.7272727272727273\n",
      " \n",
      "Training Set Accuracy for max_depth 12 is: 0.993485342019544\n",
      "Test Set Accuracy for max_depth 12 is: 0.7272727272727273\n",
      " \n",
      "Training Set Accuracy for max_depth 13 is: 0.996742671009772\n",
      "Test Set Accuracy for max_depth 13 is: 0.7207792207792207\n",
      " \n",
      "Training Set Accuracy for max_depth 14 is: 0.998371335504886\n",
      "Test Set Accuracy for max_depth 14 is: 0.7402597402597403\n",
      " \n",
      "Training Set Accuracy for max_depth 15 is: 1.0\n",
      "Test Set Accuracy for max_depth 15 is: 0.7272727272727273\n",
      " \n",
      "Training Set Accuracy for max_depth 16 is: 1.0\n",
      "Test Set Accuracy for max_depth 16 is: 0.7272727272727273\n",
      " \n",
      "Training Set Accuracy for max_depth 17 is: 1.0\n",
      "Test Set Accuracy for max_depth 17 is: 0.7272727272727273\n",
      " \n",
      "Training Set Accuracy for max_depth 18 is: 1.0\n",
      "Test Set Accuracy for max_depth 18 is: 0.7272727272727273\n",
      " \n",
      "Training Set Accuracy for max_depth 19 is: 1.0\n",
      "Test Set Accuracy for max_depth 19 is: 0.7272727272727273\n",
      " \n",
      "Training Set Accuracy for max_depth 20 is: 1.0\n",
      "Test Set Accuracy for max_depth 20 is: 0.7272727272727273\n",
      " \n"
     ]
    }
   ],
   "source": [
    "### identifing the optimum max depth for the decision tree\n",
    "\n",
    "for max_d in range(1,21):\n",
    "    decision_tree_model = DecisionTreeClassifier(max_depth = max_d, random_state=42)\n",
    "    decision_tree_model.fit(X_train, y_train)\n",
    "    print('Training Set Accuracy for max_depth {} is:'.format(max_d), decision_tree_model.score(X_train, y_train))\n",
    "    print('Test Set Accuracy for max_depth {} is:'.format(max_d), decision_tree_model.score(X_test, y_test))\n",
    "    print(' ')"
   ]
  },
  {
   "cell_type": "code",
   "execution_count": 70,
   "id": "c7004556",
   "metadata": {},
   "outputs": [
    {
     "name": "stdout",
     "output_type": "stream",
     "text": [
      "Decision Tree CM: [[92 15]\n",
      " [22 25]]\n",
      "              precision    recall  f1-score   support\n",
      "\n",
      "           0       0.81      0.86      0.83       107\n",
      "           1       0.62      0.53      0.57        47\n",
      "\n",
      "    accuracy                           0.76       154\n",
      "   macro avg       0.72      0.70      0.70       154\n",
      "weighted avg       0.75      0.76      0.75       154\n",
      "\n"
     ]
    }
   ],
   "source": [
    "decision_tree_2 = DecisionTreeClassifier(criterion = 'entropy', random_state = 42, max_depth = 4)\n",
    "decision_tree_2.fit(X_train, y_train)\n",
    "\n",
    "Y_pred_decision_tree_2 = decision_tree_2.predict(X_test)\n",
    "\n",
    "accuracy_decision_tree_2 = accuracy_score(y_test, Y_pred_decision_tree_2)\n",
    "\n",
    "### Confusion Matrix and Evaluation Scores\n",
    "print('Decision Tree CM:',confusion_matrix(y_test, Y_pred_decision_tree_2))\n",
    "print(classification_report(y_test, Y_pred_decision_tree_2))\n",
    "accuracy_decision_tree_2 = accuracy_score(y_test, Y_pred_decision_tree_2)"
   ]
  },
  {
   "cell_type": "code",
   "execution_count": 71,
   "id": "f06ec25d",
   "metadata": {},
   "outputs": [
    {
     "data": {
      "text/plain": [
       "[Text(0.5, 1.0, 'Confusion Matrix of Decision Tree Optimised')]"
      ]
     },
     "execution_count": 71,
     "metadata": {},
     "output_type": "execute_result"
    },
    {
     "data": {
      "image/png": "[encoded data removed]",
      "text/plain": [
       "<Figure size 432x288 with 2 Axes>"
      ]
     },
     "metadata": {
      "needs_background": "light"
     },
     "output_type": "display_data"
    }
   ],
   "source": [
    "### visualisation of confusion matrix\n",
    "cm_matrix_dt_2 = confusion_matrix(y_test, Y_pred_decision_tree_2)\n",
    "sns.heatmap(cm_matrix_dt_2, annot=True).set(title = 'Confusion Matrix of Decision Tree Optimised')"
   ]
  },
  {
   "cell_type": "markdown",
   "id": "f04f061b",
   "metadata": {},
   "source": [
    "The optimum number for max_depth is 4, with the highest test set accuracy score of 0.772. This is a good improvement on the default setting accuracy score of 0.721."
   ]
  },
  {
   "cell_type": "markdown",
   "id": "e8356873",
   "metadata": {},
   "source": [
    "# Naive Bayes Optimisation "
   ]
  },
  {
   "cell_type": "code",
   "execution_count": 74,
   "id": "32c069de",
   "metadata": {},
   "outputs": [],
   "source": [
    "param_grid_NB = {'var_smoothing': np.logspace(0,-9, num=100)}"
   ]
  },
  {
   "cell_type": "code",
   "execution_count": 75,
   "id": "591c7f72",
   "metadata": {},
   "outputs": [
    {
     "name": "stdout",
     "output_type": "stream",
     "text": [
      "Fitting 10 folds for each of 100 candidates, totalling 1000 fits\n",
      "GaussianNB(var_smoothing=0.43287612810830584)\n"
     ]
    }
   ],
   "source": [
    "### GridSearchCV for exploring optimal parameters\n",
    "\n",
    "NBModel_grid = GridSearchCV(estimator = GaussianNB(), param_grid = param_grid_NB, verbose=1, cv=10, n_jobs=-1)\n",
    "NBModel_grid.fit(X_train, y_train)\n",
    "print(NBModel_grid.best_estimator_)"
   ]
  },
  {
   "cell_type": "code",
   "execution_count": 76,
   "id": "d445645b",
   "metadata": {},
   "outputs": [],
   "source": [
    "### predicting using the test set\n",
    "y_pred_NB = NBModel_grid.predict(X_test)\n"
   ]
  },
  {
   "cell_type": "code",
   "execution_count": 90,
   "id": "0bc58eec",
   "metadata": {},
   "outputs": [
    {
     "name": "stdout",
     "output_type": "stream",
     "text": [
      "[[93 14]\n",
      " [18 29]] : confusion matrix\n",
      "0.7922077922077922\n"
     ]
    }
   ],
   "source": [
    "### Confusion matrix\n",
    "print(confusion_matrix(y_test, y_pred_NB), \": confusion matrix\")\n",
    "\n",
    "### Accuracy score\n",
    "NB_accuracy_2 = accuracy_score(y_test, y_pred_NB)\n",
    "print(NB_accuracy_2)"
   ]
  },
  {
   "cell_type": "code",
   "execution_count": 79,
   "id": "bcdae498",
   "metadata": {},
   "outputs": [
    {
     "data": {
      "text/plain": [
       "[Text(0.5, 1.0, 'Confusion Matrix of Naive Bayes Optimised')]"
      ]
     },
     "execution_count": 79,
     "metadata": {},
     "output_type": "execute_result"
    },
    {
     "data": {
      "image/png": "[encoded data removed]",
      "text/plain": [
       "<Figure size 432x288 with 2 Axes>"
      ]
     },
     "metadata": {
      "needs_background": "light"
     },
     "output_type": "display_data"
    }
   ],
   "source": [
    "### visualisation of confusion matrix\n",
    "cm_matrix_nb_2 = confusion_matrix(y_test, y_pred_NB)\n",
    "sns.heatmap(cm_matrix_nb_2, annot=True).set(title = 'Confusion Matrix of Naive Bayes Optimised')"
   ]
  },
  {
   "cell_type": "markdown",
   "id": "908412a3",
   "metadata": {},
   "source": [
    " Optimised model produced an accuracy score of 0.792 which is in improvement from 0.786"
   ]
  },
  {
   "cell_type": "markdown",
   "id": "5044c9f7",
   "metadata": {},
   "source": [
    "# Optimised model results"
   ]
  },
  {
   "cell_type": "code",
   "execution_count": 108,
   "id": "6408e61f",
   "metadata": {},
   "outputs": [
    {
     "name": "stdout",
     "output_type": "stream",
     "text": [
      "Summary of optimised model accuracy scores:\n",
      "KNN Optimised Accuracy score : 0.838\n",
      "Random Forest Optimised Accuracy score : 0.766\n",
      "SVC Optimised Accuracy score : 0.812\n",
      "Decision Tree Optimised Accuracy score : 0.76\n",
      "Naive Bayes Optimised Accuracy score : 0.792\n"
     ]
    }
   ],
   "source": [
    "### summary of optimised model Accuracy scores\n",
    "print('Summary of optimised model accuracy scores:')\n",
    "print('KNN Optimised Accuracy score :', accuracy_knn_2.round(3))\n",
    "print('Random Forest Optimised Accuracy score :', RF_accuracy_2.mean().round(3))\n",
    "print('SVC Optimised Accuracy score :', SVC_accuracy_2.round(3))\n",
    "print('Decision Tree Optimised Accuracy score :', accuracy_decision_tree_2.round(3))\n",
    "print('Naive Bayes Optimised Accuracy score :', NB_accuracy_2.round(3))"
   ]
  },
  {
   "cell_type": "markdown",
   "id": "6ee61acb",
   "metadata": {},
   "source": [
    "Overall there is a small improvement in the models with optimised parameters with the greatest improvement being\n",
    "Decision Tree."
   ]
  },
  {
   "cell_type": "markdown",
   "id": "8fb9a029",
   "metadata": {},
   "source": [
    "# Case Study Conclusion"
   ]
  },
  {
   "cell_type": "markdown",
   "id": "644a94ec",
   "metadata": {},
   "source": [
    "Having compared six of the most common supervised learning models for their ability to predict the diagnosis of \n",
    "Diabetes using this dataset the model I would select is K-Nearest Neighbor.\n",
    "KNN produced the highest overall accuracy score of 0.838 and given the number of features in the dataset and the weak correlation between each feature and the Outcome this is a great result."
   ]
  }
 ],
 "metadata": {
  "kernelspec": {
   "display_name": "Python 3 (ipykernel)",
   "language": "python",
   "name": "python3"
  },
  "language_info": {
   "codemirror_mode": {
    "name": "ipython",
    "version": 3
   },
   "file_extension": ".py",
   "mimetype": "text/x-python",
   "name": "python",
   "nbconvert_exporter": "python",
   "pygments_lexer": "ipython3",
   "version": "3.9.12"
  }
 },
 "nbformat": 4,
 "nbformat_minor": 5
}
